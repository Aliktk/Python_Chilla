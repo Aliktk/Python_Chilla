{
 "cells": [
  {
   "cell_type": "code",
   "execution_count": 1,
   "metadata": {},
   "outputs": [],
   "source": [
    "import plotly.express as px\n",
    "import pandas as pd\n",
    "import numpy as np\n",
    "import os\n",
    "import matplotlib.pyplot as plt\n",
    "import seaborn as sns"
   ]
  },
  {
   "cell_type": "markdown",
   "metadata": {},
   "source": [
    "# statistics outline\n"
   ]
  },
  {
   "cell_type": "markdown",
   "metadata": {},
   "source": [
    "> + Descriptive statisctics\n",
    "> + Data Visuliation\n",
    "> + Probablity Distribution\n",
    "> + Hypothesis testing\n",
    "> + Regression Analysis"
   ]
  },
  {
   "cell_type": "markdown",
   "metadata": {},
   "source": [
    "**Pakacges we will cover and covered**\n",
    "\n",
    "> pandas (Data Structures and 2D Dataframe)\\\n",
    "> numpu (Arrays and matrices)\\\n",
    "> scipy (Optimization and solving diffrential equation)\\\n",
    "> Matplotlib (Plots and graphs and figures)\\\n",
    "> Seaborn (Heat maps and time series and oter plots)\n"
   ]
  },
  {
   "cell_type": "markdown",
   "metadata": {},
   "source": [
    "We will discuss it later\\\n",
    "### Scikit Learn\n",
    "> ML, Regression, classification, clustring\n",
    "analysis etc\n",
    "\n",
    "### Stats models\n",
    "> Exploredata and estimation of statistical modelsand perform statistical analysis"
   ]
  },
  {
   "cell_type": "markdown",
   "metadata": {},
   "source": [
    "# Statistics\n",
    "\n",
    "Statisctis is a collection of methods and collecting, displuing, analyzing and drawing conclusion from data."
   ]
  },
  {
   "cell_type": "markdown",
   "metadata": {},
   "source": [
    "# Statistics is everywhere\\\n",
    "Incom of Pak avg (**Average**)\\\n",
    "Highest score in PSL (**MAX**)\\\n",
    "**Fastest** Bowler\\\n",
    "**Lowest** runs\\\n",
    "Female **Percentage** of teacher in pakistan\\\n",
    "Rain forcast **(Likelihood)**\\\n",
    "Dollar range **Variance**\\\n",
    "Hostel male are more exepensive than female in (**t_test**)\\\n",
    "Best from this place in terms of jokes, culture etc is **ANOVA**\n",
    "\n",
    "\n"
   ]
  },
  {
   "cell_type": "markdown",
   "metadata": {},
   "source": [
    "# Type of Data\n",
    "### Type-1 Data\n",
    "\n",
    "1. Cross Sectional (Collect at one point aj kitny log video dek rahy hy? kind of)\n",
    "2. Time Series (Data Collected over different TIme points e.g covid)\n",
    "\n",
    "### Type-2 Data\n",
    "\n",
    "3. Univariate (Data contain a single variable to measure entity  e.g plnat hight in time stamp e.g kitna khana katy hy jis say wazan bhar raha hy)\n",
    "4. Multi Variate  (Data contain more variable to measure something e.g plant hight, fertilizer amount irrigation)\n"
   ]
  },
  {
   "cell_type": "markdown",
   "metadata": {},
   "source": [
    "### Variable Types-1\n",
    "#### categorical (Nominal)\n",
    "\n",
    "> + Binominal (True/False) no quantitative relationship is given\n",
    "> + Multinomonal (Travel Choices) e.g hue col in sns\n",
    "> "
   ]
  },
  {
   "cell_type": "markdown",
   "metadata": {},
   "source": [
    "### Variable Types-2\n",
    "#### categorical (Nominal)\n",
    "\n",
    "> + Ordinal Variable Data ranked or ordered e.g mery pas kitnyu phone hy? no fix limit size etc ranking in simple word and you have to search your own\n"
   ]
  },
  {
   "cell_type": "markdown",
   "metadata": {},
   "source": [
    "### Variable Types-3\n",
    "#### Ratio Data\n",
    "\n",
    "> + Data have a natral zero e.g aj zaida mall bika hy kal ki nisbat and economic data \n",
    "> + or measurement in unit and ratios are continous\n",
    "> note: You will not mix with catogorical varible e.g kal sale nae hoe aj hoe hy so don't mix it with continous\n",
    "> ratio data is meri hieht tm say zaida hy \n",
    "> "
   ]
  },
  {
   "cell_type": "markdown",
   "metadata": {},
   "source": [
    "### Variable Types-3\n",
    "#### Interval data or Variables Data\n",
    "\n",
    "> + Ordered and charaterized data\n",
    "> e.g is june may grami zaida hy? 2020 ki nisbat\n",
    "\n",
    "Rarios are meaning less (50 degree is not double hot of 25 degere diffrence are meaningful)\n",
    "\n",
    "we can not say about diffrence between double or triple you can google it for more ifo"
   ]
  },
  {
   "cell_type": "markdown",
   "metadata": {},
   "source": [
    "### Meaure of Central Tendency\n",
    "#### Mean, Meadian and Mode\n",
    "> Population vs Sample\n",
    "+ Population research has more power (less error chances covid vaccine e.g)\n",
    "+ Samples are used to reduced the cost of data collection (less accurate less powerfull )"
   ]
  },
  {
   "cell_type": "markdown",
   "metadata": {},
   "source": [
    "### Notion and Terms in Statistics\n",
    "> N = size of population\n",
    "> n = size of sample\n",
    "> E = sum\n",
    "> \n",
    "\n"
   ]
  },
  {
   "cell_type": "markdown",
   "metadata": {},
   "source": [
    "### Notion and Terms in Statistics\n",
    "> measurement (chaces of servival)\\\n",
    "> sample\\\n",
    "> parameter (no and summarize of the poplation)\\\n",
    "> statistic (mean modian and mode)\\\n",
    "> Desciptive Statistics (describing analysis of data)\\\n",
    "> Inferential Statistics (darwing conclusion about a population based on info contained in a sample taken from that \\poplation)\n",
    "> Qualititve Data (measurement for which there is no natural numerical scale but which conssit of attribute that arise from a natural numerical scale)\\\n",
    "> Quantitive Data (numerical measurement that arise from a natural numerical scale\\\n",
    "> Mean (is the sim divied by the no of observation average)\\\n",
    "> Meaninful (for inteval and ratio data)\n",
    "> Outliers (Change the means of a data therefore median is usefull)\\\n",
    "> Median (is middl eno of any sorted ascending or descending order of list)\\\n",
    ">  (describing analysis of data)\\\n",
    "> Mode (The value that occures most frewuently e.g 18 year age most common in a class)\n",
    ">  (describing analysis of data)\\\n",
    "> \n",
    " \n",
    "\n"
   ]
  },
  {
   "cell_type": "markdown",
   "metadata": {},
   "source": []
  },
  {
   "cell_type": "code",
   "execution_count": 2,
   "metadata": {},
   "outputs": [
    {
     "data": {
      "text/html": [
       "<div>\n",
       "<style scoped>\n",
       "    .dataframe tbody tr th:only-of-type {\n",
       "        vertical-align: middle;\n",
       "    }\n",
       "\n",
       "    .dataframe tbody tr th {\n",
       "        vertical-align: top;\n",
       "    }\n",
       "\n",
       "    .dataframe thead th {\n",
       "        text-align: right;\n",
       "    }\n",
       "</style>\n",
       "<table border=\"1\" class=\"dataframe\">\n",
       "  <thead>\n",
       "    <tr style=\"text-align: right;\">\n",
       "      <th></th>\n",
       "      <th>sepal_length</th>\n",
       "      <th>sepal_width</th>\n",
       "      <th>petal_length</th>\n",
       "      <th>petal_width</th>\n",
       "    </tr>\n",
       "  </thead>\n",
       "  <tbody>\n",
       "    <tr>\n",
       "      <th>count</th>\n",
       "      <td>150.000000</td>\n",
       "      <td>150.000000</td>\n",
       "      <td>150.000000</td>\n",
       "      <td>150.000000</td>\n",
       "    </tr>\n",
       "    <tr>\n",
       "      <th>mean</th>\n",
       "      <td>5.843333</td>\n",
       "      <td>3.057333</td>\n",
       "      <td>3.758000</td>\n",
       "      <td>1.199333</td>\n",
       "    </tr>\n",
       "    <tr>\n",
       "      <th>std</th>\n",
       "      <td>0.828066</td>\n",
       "      <td>0.435866</td>\n",
       "      <td>1.765298</td>\n",
       "      <td>0.762238</td>\n",
       "    </tr>\n",
       "    <tr>\n",
       "      <th>min</th>\n",
       "      <td>4.300000</td>\n",
       "      <td>2.000000</td>\n",
       "      <td>1.000000</td>\n",
       "      <td>0.100000</td>\n",
       "    </tr>\n",
       "    <tr>\n",
       "      <th>25%</th>\n",
       "      <td>5.100000</td>\n",
       "      <td>2.800000</td>\n",
       "      <td>1.600000</td>\n",
       "      <td>0.300000</td>\n",
       "    </tr>\n",
       "    <tr>\n",
       "      <th>50%</th>\n",
       "      <td>5.800000</td>\n",
       "      <td>3.000000</td>\n",
       "      <td>4.350000</td>\n",
       "      <td>1.300000</td>\n",
       "    </tr>\n",
       "    <tr>\n",
       "      <th>75%</th>\n",
       "      <td>6.400000</td>\n",
       "      <td>3.300000</td>\n",
       "      <td>5.100000</td>\n",
       "      <td>1.800000</td>\n",
       "    </tr>\n",
       "    <tr>\n",
       "      <th>max</th>\n",
       "      <td>7.900000</td>\n",
       "      <td>4.400000</td>\n",
       "      <td>6.900000</td>\n",
       "      <td>2.500000</td>\n",
       "    </tr>\n",
       "  </tbody>\n",
       "</table>\n",
       "</div>"
      ],
      "text/plain": [
       "       sepal_length  sepal_width  petal_length  petal_width\n",
       "count    150.000000   150.000000    150.000000   150.000000\n",
       "mean       5.843333     3.057333      3.758000     1.199333\n",
       "std        0.828066     0.435866      1.765298     0.762238\n",
       "min        4.300000     2.000000      1.000000     0.100000\n",
       "25%        5.100000     2.800000      1.600000     0.300000\n",
       "50%        5.800000     3.000000      4.350000     1.300000\n",
       "75%        6.400000     3.300000      5.100000     1.800000\n",
       "max        7.900000     4.400000      6.900000     2.500000"
      ]
     },
     "execution_count": 2,
     "metadata": {},
     "output_type": "execute_result"
    }
   ],
   "source": [
    "df = sns.load_dataset('iris')\n",
    "df.describe()"
   ]
  },
  {
   "cell_type": "markdown",
   "metadata": {},
   "source": [
    "### Measure of Despersion\n",
    "How much data spread around mean of the data. (the dispurstion is called standard deviation or standard error or varinace or bell curve)\n",
    "\n",
    "e.g range = min -to- max    123456789123456789 (1 is min last 9 is max)"
   ]
  },
  {
   "cell_type": "markdown",
   "metadata": {},
   "source": [
    "### SD and Mean\n",
    "Data from 100 shopes is ramdan\n",
    "first calculate mean of 2 karhye abd biryani \n",
    "mean 1= 30.1\n",
    "mean 2= 30.2\n",
    "\n",
    "sd = 4.47\n",
    "sd = 10.99\n",
    "\n",
    "the central tendency will be mean and disperse SD checking in a data \n",
    "\n",
    "# SD and Mean Reliablity\n",
    "Mean give us small picture\n",
    "\n",
    "Means are incomplete withour dispersion (SD)\n",
    "\n",
    "Mean with a SD is more usefull than only mean by itself"
   ]
  },
  {
   "cell_type": "markdown",
   "metadata": {},
   "source": [
    "### Fundamental of Visuliztion\n",
    "#### Variable Type Matters\n",
    "Type of visulalization depends on the variable type\n",
    "\n",
    "1. Catergorical Var\n",
    "   + Count plot type\n",
    "   + Qualitative variable\n",
    "   + Male vs female\n",
    "   + T/F\n",
    "   + 0 vs 1\n",
    "   + Yes vs No\n",
    "2. Contiunous Variable\n",
    "   + Scater plot\n",
    "   + Quantitative Var\n",
    "   + Statistical Proportion\n",
    "   + Means and their comparison\n",
    "   + e.g amount no, age, plant height\n",
    "\n"
   ]
  },
  {
   "cell_type": "markdown",
   "metadata": {},
   "source": [
    "#### Chart Suggestion A thought starter from the exterme Presentation Method (Created by DR Andrew ALbela)"
   ]
  },
  {
   "cell_type": "markdown",
   "metadata": {},
   "source": []
  }
 ],
 "metadata": {
  "interpreter": {
   "hash": "9d70aad609970aced91dd5d236a1502174788f0d015a2c74b40cf0eb5361d0f9"
  },
  "kernelspec": {
   "display_name": "Python 3.6.13 64-bit ('python-chilla': conda)",
   "language": "python",
   "name": "python3"
  },
  "language_info": {
   "codemirror_mode": {
    "name": "ipython",
    "version": 3
   },
   "file_extension": ".py",
   "mimetype": "text/x-python",
   "name": "python",
   "nbconvert_exporter": "python",
   "pygments_lexer": "ipython3",
   "version": "3.6.13"
  },
  "orig_nbformat": 4
 },
 "nbformat": 4,
 "nbformat_minor": 2
}
