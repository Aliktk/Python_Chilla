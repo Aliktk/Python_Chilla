{
 "cells": [
  {
   "cell_type": "code",
   "execution_count": null,
   "metadata": {},
   "outputs": [],
   "source": [
    "# import all the lib\n",
    "import pandas as pd\n",
    "import seaborn as sns\n",
    "import numpy as np\n",
    "from sklearn.model_selection import train_test_split\n",
    "from sklearn import linear_model \n",
    "import sklearn.metrics as sm\n",
    "import matplotlib.pyplot as plt\n",
    "\n",
    "# Importing Linear Regression model from scikit learn\n",
    "from sklearn.linear_model import LinearRegression\n",
    "# Importing metrics for the evaluation of the model\n",
    "from sklearn.metrics import r2_score,mean_squared_error\n",
    "\n",
    "# read the dataset using pandas\n",
    "data = pd.read_csv('D:/Python ka Chilla/python_chilla/data/Salary_Data.csv')"
   ]
  },
  {
   "cell_type": "markdown",
   "metadata": {},
   "source": [
    "### In this Notebook we are going to know about Machine Learning in python"
   ]
  },
  {
   "cell_type": "markdown",
   "metadata": {},
   "source": [
    "> Choosing right statictical method\\\n",
    "> do's and don'ts of statistics\\\n",
    "> reliable results\\\n",
    "> paper ewvision with proof of statistical test\\\n",
    "> making data visualization\\\n",
    "> interpreting results\\\n",
    "> "
   ]
  },
  {
   "cell_type": "markdown",
   "metadata": {},
   "source": [
    "### Test and Teir types"
   ]
  },
  {
   "cell_type": "markdown",
   "metadata": {},
   "source": [
    "## ParametericTest\n",
    "> more reliable results\\\n",
    "> first we have meet the assumption\\\n",
    "> e.g how much male and female in this group"
   ]
  },
  {
   "cell_type": "markdown",
   "metadata": {},
   "source": [
    "## non-Parameteric Test\n",
    "> less reliable results\\\n",
    "> calculate the rank of data\\\n",
    "> e.g how much male and female have age in 22, 30 etc in this group"
   ]
  },
  {
   "cell_type": "markdown",
   "metadata": {},
   "source": [
    "**Before stating we should start with Normality Test**\n",
    "\n",
    "Test to be used:\n",
    "\n",
    "+ Shapiro wilk test specific (reliable)\n",
    "\n",
    "\n",
    "+ Kolmogorve-smirnov Test General (less reliable)"
   ]
  },
  {
   "cell_type": "markdown",
   "metadata": {},
   "source": [
    "**2nd Step is check the Homogeneity Test**\n",
    "\n",
    "+ variance of the variable is data are equal\n",
    "+ Test be used: **Levene's Test**"
   ]
  },
  {
   "cell_type": "markdown",
   "metadata": {},
   "source": [
    "**3rd PurposeTest**\n",
    "\n",
    "+ Know the pupose of your resaerch question\n"
   ]
  },
  {
   "cell_type": "markdown",
   "metadata": {},
   "source": [
    "## Two types of purposes\n",
    "1. comparsion\n",
    ">   + Differece\n",
    ">   + Compare two group not single\n",
    ">   + e.g male vs female\n",
    ">   + control group vs short group reearch wise\n",
    "\n",
    "2. Relationship\n",
    ">   + find a connection\n",
    ">   + can food predict weight of a group of individuals\n",
    ">   + do fertilizer applicatiion increases crop growth?\n",
    ">   + we will see connection correlation, causation, prediction\n",
    "> \n"
   ]
  },
  {
   "cell_type": "markdown",
   "metadata": {},
   "source": [
    "### Data type Step 4 \n",
    "> know the type of data you are working with"
   ]
  },
  {
   "cell_type": "markdown",
   "metadata": {},
   "source": [
    "## Two Types of Data\n",
    "> catergorical (Qualitative, non numerical meaning, e.g character, factors)\n",
    "> Continuous (Quantitative, numerical , e.g number, int or float represent)"
   ]
  },
  {
   "cell_type": "markdown",
   "metadata": {},
   "source": []
  },
  {
   "cell_type": "markdown",
   "metadata": {},
   "source": [
    "### Statistical Test\n",
    "> Choose a statistical test from three main families\n",
    "\n",
    "1. Chi-Squared (Purpose: comparision, Data: Categorical Only)\n",
    "2. t-Test / ANOVA (purpose: Comparison, Data: Categorical and continous)\n",
    "3. Correlation (purpose: Relationship, Data: Continous only )"
   ]
  },
  {
   "cell_type": "markdown",
   "metadata": {},
   "source": [
    "### 1- Chi-Squared\n",
    "types: \n",
    "> chi-squred test of homogeneity\n",
    "> chi-squred test of independence\n",
    "\n",
    "when to use?\\\n",
    "nothing effrects this.\\\n",
    "can be use with any number of levels or groups"
   ]
  },
  {
   "cell_type": "markdown",
   "metadata": {},
   "source": [
    "### 2- t-Test/ANOVA\n",
    "types: \n",
    "> One sample t-test: for one sample group with a known mean\\\n",
    "> Two-sample:\n",
    "  + un-paired t-test (two dif group)\\\n",
    "  + paired t-test (same group twice)\n",
    "\n",
    "> ANOVA: (analysis of variance [3+ level or group are involved])\n",
    "  + one way ANOVA (even one of group is significant you will get significant result but does'nt tell you which one)\\\n",
    "  + Two Way ANOVA\\\n",
    "  + Repeated measured of ANOVA  (3+ paired group, scale up of paired test)\n",
    "\n",
    "when to use?\\\n",
    "nothing effrects this.\\\n",
    "can be use with any number of levels or groups"
   ]
  },
  {
   "cell_type": "markdown",
   "metadata": {},
   "source": [
    "## Correlation \n",
    "#### Wen and where to use?\n",
    "**Types:**\\\n",
    "> Pearson Correlation (one-independent and one dependent variable)\\\n",
    "> Regression (one-independent and one dependent variable)\\\n",
    "\n",
    "**Correlation:** \n",
    "\n",
    "tell us how closely connected two variables are?\n",
    "\n",
    "is food a predictor of weight gain?\n",
    "\n",
    "Regeression:\n",
    "\n",
    "Tells us a specfic mathematical equation that descubes the relationship. e.g missing values can be predicited like this"
   ]
  },
  {
   "cell_type": "markdown",
   "metadata": {},
   "source": [
    "## Important thing\n",
    "**Assumption about your data**\\\n",
    "Your data will be nomal distributed\\\n",
    "Your data will be nomal gaussion disstribution\n",
    "\n",
    "if you not follow the assumption than ur results will be worst"
   ]
  },
  {
   "cell_type": "markdown",
   "metadata": {},
   "source": [
    "### Types of ANOVA Test\n",
    "\n",
    "links is here for moer info:\n",
    "[URL](https://www.statisticshowto.com/probability-and-statistics/hypothesis-testing/anova/)"
   ]
  },
  {
   "cell_type": "markdown",
   "metadata": {},
   "source": [
    "## Other Test\n",
    "> Reliablity test (its have diff type) \\\n",
    "> Inter rater reliablity test (its have diff type)\\\n",
    "> Validity test (its have diff type)\\\n",
    "> Sample Size compuatuib (its have diff type)"
   ]
  },
  {
   "cell_type": "markdown",
   "metadata": {},
   "source": [
    "![image](statistics.png)"
   ]
  },
  {
   "cell_type": "markdown",
   "metadata": {},
   "source": []
  }
 ],
 "metadata": {
  "interpreter": {
   "hash": "9d70aad609970aced91dd5d236a1502174788f0d015a2c74b40cf0eb5361d0f9"
  },
  "kernelspec": {
   "display_name": "Python 3.6.13 64-bit ('python-chilla': conda)",
   "language": "python",
   "name": "python3"
  },
  "language_info": {
   "name": "python",
   "version": "3.6.13"
  },
  "orig_nbformat": 4
 },
 "nbformat": 4,
 "nbformat_minor": 2
}
