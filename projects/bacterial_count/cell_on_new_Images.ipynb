{
 "cells": [
  {
   "cell_type": "code",
   "execution_count": 1,
   "id": "e711305b",
   "metadata": {},
   "outputs": [],
   "source": [
    "# Import necessary libraries\n",
    "from IPython.display import Image\n",
    "from IPython.display import Latex\n",
    "import numpy as np\n",
    "import cv2\n",
    "import matplotlib.pyplot as plt\n",
    "import matplotlib.cm as cm\n",
    "from scipy import misc\n",
    "from scipy import stats\n",
    "import scipy.spatial.distance as dist\n",
    "import PIL\n",
    "from PIL import ImageDraw\n",
    "plt.style.use(\"ggplot\")\n"
   ]
  },
  {
   "cell_type": "code",
   "execution_count": 1,
   "id": "47bc4370",
   "metadata": {},
   "outputs": [],
   "source": [
    "import cv2\n",
    "\n",
    "image1 = cv2.imread('bac.jpg')\n",
    "image=cv2.cvtColor(image1,cv2.COLOR_BGR2GRAY)\n",
    "se=cv2.getStructuringElement(cv2.MORPH_RECT , (5,5))\n",
    "bg=cv2.morphologyEx(image, cv2.MORPH_DILATE, se)\n",
    "out_gray=cv2.divide(image, bg, scale=255)\n",
    "out_binary=cv2.threshold(out_gray, 0, 255, cv2.THRESH_OTSU )[1] \n",
    "\n",
    "cv2.imshow('binary', out_binary)  \n",
    "# cv2.imwrite('binary.png',out_binary)\n",
    "\n",
    "cv2.imshow('orignal', image1)  \n",
    "# cv2.imwrite('gray.png',out_gray)\n",
    "cv2.waitKey(0)\n",
    "cv2.destroyAllWindows()"
   ]
  },
  {
   "cell_type": "code",
   "execution_count": 17,
   "id": "fd33a41d",
   "metadata": {},
   "outputs": [],
   "source": [
    "img = cv2.imread('bac.jpg')\n",
    "# down_width = 600\n",
    "# down_height = 500\n",
    "# down_points = (down_width, down_height)\n",
    "# img = cv2.resize(img, down_points, interpolation= cv2.INTER_LINEAR)\n",
    "cv2.imshow('img', img)\n",
    "cv2.waitKey(0)\n",
    "cv2.destroyAllWindows()"
   ]
  },
  {
   "cell_type": "code",
   "execution_count": 18,
   "id": "c0beed15",
   "metadata": {},
   "outputs": [],
   "source": [
    "img = np.mean(img, axis=2)"
   ]
  },
  {
   "cell_type": "code",
   "execution_count": 23,
   "id": "2c12008b",
   "metadata": {},
   "outputs": [],
   "source": [
    "# Function for removing background noise\n",
    "def remove_background_noise(img, dilations=1, kernel_size=3, thresh=250):\n",
    "    kern = cv2.getStructuringElement(cv2.MORPH_ELLIPSE, (kernel_size, kernel_size))\n",
    "    clean_image = cv2.dilate(img, kern, iterations=dilations)\n",
    "    # Remove all pixels that are brighter than thresh\n",
    "    return clean_image * (clean_image < thresh)   \n",
    "\n",
    "# Create clean image\n",
    "clean_image = remove_background_noise(img, dilations=1, kernel_size=3, thresh=250)\n",
    "# misc.imsave(\"clean_image.jpg\", clean_image)\n",
    "\n",
    "cv2.imshow('img', clean_image)\n",
    "cv2.waitKey(0)\n",
    "cv2.destroyAllWindows()"
   ]
  },
  {
   "cell_type": "code",
   "execution_count": 25,
   "id": "da83bfca",
   "metadata": {},
   "outputs": [],
   "source": [
    "# Function to detect cell locations using Bonferroni corrected one sample t-test\n",
    "def detect_cell_location(clean_image, step_size=20, alpha=0.05, population_mean=220):\n",
    "    n = clean_image.shape[1]\n",
    "    m = clean_image.shape[0]\n",
    "    x_coordinates = []\n",
    "    y_coordinates = []\n",
    "    number_of_comparisons = np.round((n/step_size)*(m/step_size))\n",
    "    bonferroni_alpha = 0.05 / float(number_of_comparisons)\n",
    "    for y in xrange(0, m, step_size):\n",
    "        for x in xrange(0, n, step_size):\n",
    "            wind = clean_image[y:y+step_size, x:x+step_size].flatten()\n",
    "            t_statistic, p_value = stats.ttest_1samp(wind, population_mean)\n",
    "            if p_value == 0:\n",
    "                x_coordinates.append(x)\n",
    "                y_coordinates.append(y)\n",
    "    return (x_coordinates, y_coordinates)"
   ]
  },
  {
   "cell_type": "code",
   "execution_count": 26,
   "id": "5cb8fa9b",
   "metadata": {},
   "outputs": [
    {
     "ename": "NameError",
     "evalue": "name 'xrange' is not defined",
     "output_type": "error",
     "traceback": [
      "\u001b[1;31m---------------------------------------------------------------------------\u001b[0m",
      "\u001b[1;31mNameError\u001b[0m                                 Traceback (most recent call last)",
      "\u001b[1;32m<ipython-input-26-6f701affaf7e>\u001b[0m in \u001b[0;36m<module>\u001b[1;34m\u001b[0m\n\u001b[0;32m      3\u001b[0m \u001b[1;33m\u001b[0m\u001b[0m\n\u001b[0;32m      4\u001b[0m \u001b[1;31m# Extract cell locations\u001b[0m\u001b[1;33m\u001b[0m\u001b[1;33m\u001b[0m\u001b[1;33m\u001b[0m\u001b[0m\n\u001b[1;32m----> 5\u001b[1;33m \u001b[0mx_coordinates\u001b[0m\u001b[1;33m,\u001b[0m \u001b[0my_coordinates\u001b[0m \u001b[1;33m=\u001b[0m \u001b[0mdetect_cell_location\u001b[0m\u001b[1;33m(\u001b[0m\u001b[0mclean_image\u001b[0m\u001b[1;33m,\u001b[0m \u001b[0mpopulation_mean\u001b[0m\u001b[1;33m=\u001b[0m\u001b[0mpop_mean\u001b[0m\u001b[1;33m)\u001b[0m\u001b[1;33m\u001b[0m\u001b[1;33m\u001b[0m\u001b[0m\n\u001b[0m",
      "\u001b[1;32m<ipython-input-25-3f0d49b2f169>\u001b[0m in \u001b[0;36mdetect_cell_location\u001b[1;34m(clean_image, step_size, alpha, population_mean)\u001b[0m\n\u001b[0;32m      7\u001b[0m     \u001b[0mnumber_of_comparisons\u001b[0m \u001b[1;33m=\u001b[0m \u001b[0mnp\u001b[0m\u001b[1;33m.\u001b[0m\u001b[0mround\u001b[0m\u001b[1;33m(\u001b[0m\u001b[1;33m(\u001b[0m\u001b[0mn\u001b[0m\u001b[1;33m/\u001b[0m\u001b[0mstep_size\u001b[0m\u001b[1;33m)\u001b[0m\u001b[1;33m*\u001b[0m\u001b[1;33m(\u001b[0m\u001b[0mm\u001b[0m\u001b[1;33m/\u001b[0m\u001b[0mstep_size\u001b[0m\u001b[1;33m)\u001b[0m\u001b[1;33m)\u001b[0m\u001b[1;33m\u001b[0m\u001b[1;33m\u001b[0m\u001b[0m\n\u001b[0;32m      8\u001b[0m     \u001b[0mbonferroni_alpha\u001b[0m \u001b[1;33m=\u001b[0m \u001b[1;36m0.05\u001b[0m \u001b[1;33m/\u001b[0m \u001b[0mfloat\u001b[0m\u001b[1;33m(\u001b[0m\u001b[0mnumber_of_comparisons\u001b[0m\u001b[1;33m)\u001b[0m\u001b[1;33m\u001b[0m\u001b[1;33m\u001b[0m\u001b[0m\n\u001b[1;32m----> 9\u001b[1;33m     \u001b[1;32mfor\u001b[0m \u001b[0my\u001b[0m \u001b[1;32min\u001b[0m \u001b[0mxrange\u001b[0m\u001b[1;33m(\u001b[0m\u001b[1;36m0\u001b[0m\u001b[1;33m,\u001b[0m \u001b[0mm\u001b[0m\u001b[1;33m,\u001b[0m \u001b[0mstep_size\u001b[0m\u001b[1;33m)\u001b[0m\u001b[1;33m:\u001b[0m\u001b[1;33m\u001b[0m\u001b[1;33m\u001b[0m\u001b[0m\n\u001b[0m\u001b[0;32m     10\u001b[0m         \u001b[1;32mfor\u001b[0m \u001b[0mx\u001b[0m \u001b[1;32min\u001b[0m \u001b[0mxrange\u001b[0m\u001b[1;33m(\u001b[0m\u001b[1;36m0\u001b[0m\u001b[1;33m,\u001b[0m \u001b[0mn\u001b[0m\u001b[1;33m,\u001b[0m \u001b[0mstep_size\u001b[0m\u001b[1;33m)\u001b[0m\u001b[1;33m:\u001b[0m\u001b[1;33m\u001b[0m\u001b[1;33m\u001b[0m\u001b[0m\n\u001b[0;32m     11\u001b[0m             \u001b[0mwind\u001b[0m \u001b[1;33m=\u001b[0m \u001b[0mclean_image\u001b[0m\u001b[1;33m[\u001b[0m\u001b[0my\u001b[0m\u001b[1;33m:\u001b[0m\u001b[0my\u001b[0m\u001b[1;33m+\u001b[0m\u001b[0mstep_size\u001b[0m\u001b[1;33m,\u001b[0m \u001b[0mx\u001b[0m\u001b[1;33m:\u001b[0m\u001b[0mx\u001b[0m\u001b[1;33m+\u001b[0m\u001b[0mstep_size\u001b[0m\u001b[1;33m]\u001b[0m\u001b[1;33m.\u001b[0m\u001b[0mflatten\u001b[0m\u001b[1;33m(\u001b[0m\u001b[1;33m)\u001b[0m\u001b[1;33m\u001b[0m\u001b[1;33m\u001b[0m\u001b[0m\n",
      "\u001b[1;31mNameError\u001b[0m: name 'xrange' is not defined"
     ]
    }
   ],
   "source": [
    "# Determine the pixel population mean\n",
    "pop_mean = np.mean(clean_image)\n",
    "\n",
    "# Extract cell locations\n",
    "x_coordinates, y_coordinates = detect_cell_location(clean_image, population_mean=pop_mean)"
   ]
  },
  {
   "cell_type": "code",
   "execution_count": null,
   "id": "1ac46b3d",
   "metadata": {},
   "outputs": [],
   "source": []
  }
 ],
 "metadata": {
  "interpreter": {
   "hash": "9d70aad609970aced91dd5d236a1502174788f0d015a2c74b40cf0eb5361d0f9"
  },
  "kernelspec": {
   "display_name": "python-chilla",
   "language": "python",
   "name": "python3"
  },
  "language_info": {
   "codemirror_mode": {
    "name": "ipython",
    "version": 3
   },
   "file_extension": ".py",
   "mimetype": "text/x-python",
   "name": "python",
   "nbconvert_exporter": "python",
   "pygments_lexer": "ipython3",
   "version": "3.6.13"
  }
 },
 "nbformat": 4,
 "nbformat_minor": 5
}
