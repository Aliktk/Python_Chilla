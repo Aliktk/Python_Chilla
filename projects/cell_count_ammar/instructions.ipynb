{
 "cells": [
  {
   "cell_type": "markdown",
   "metadata": {},
   "source": [
    "# Instructions and requirments\n",
    "\n",
    "## python version\n",
    "software is build and tested on python 3.10.0 64-bit\n",
    "\n",
    "## Libraries\n",
    "- pyqt5 (GUI library)\n",
    "- numpy\n",
    "- cv2   (opencv-python)\n",
    "- sys   (built-in)\n",
    "- os    (built- in)\n",
    "- Separate file for GUI (gui.py) which need to be imported along with form module.\n",
    "    - from gui import Ui_Form\n",
    "\n",
    "## Installation\n",
    "- pip install pyqt5\n",
    "- pip install numpy\n",
    "- pip install opencv-python\n",
    "\n",
    "## GUI Instructions\n",
    "<img src = \"Capture.PNG\" width = 500>\n",
    "\n",
    "## Steps\n",
    "- Click \"open folder\".\n",
    "    - select the folder which contain all the images.\n",
    "    - after setecting folder first image will be shown as output.\n",
    "- \"Previous\" button moves to the previous image in the folder\n",
    "- \"Next\" button moves to the next image.\n",
    "- \"Total is:\" shows the total number of bectearias which are counted in image.\n"
   ]
  }
 ],
 "metadata": {
  "language_info": {
   "name": "python"
  },
  "orig_nbformat": 4
 },
 "nbformat": 4,
 "nbformat_minor": 2
}
