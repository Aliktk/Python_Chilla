{
 "cells": [
  {
   "cell_type": "markdown",
   "metadata": {},
   "source": [
    "## Student Detials\n",
    "> Title= \"Mr\"\\\n",
    "> Name= \"Ali Nawaz\"\\\n",
    "> email = \"nawazktk99@gmail.com\"\\\n",
    "> whatsapp = \"03358043653\""
   ]
  },
  {
   "cell_type": "markdown",
   "metadata": {},
   "source": [
    "### In this Notebook we are going to know about types Machine Learning in python"
   ]
  },
  {
   "cell_type": "markdown",
   "metadata": {},
   "source": [
    "#### How is machine learning used in data science?\n",
    "Image result for data science with machine learning\n",
    "Machine Learning basically automates the process of Data Analysis and makes data-informed predictions in real-time without any human intervention. A Data Model is built automatically and further trained to make real-time predictions. This is where the Machine Learning Algorithms are used in the Data Science Lifecycle"
   ]
  },
  {
   "cell_type": "code",
   "execution_count": 1,
   "metadata": {},
   "outputs": [],
   "source": [
    "# import all the lib\n",
    "import pandas as pd\n",
    "import seaborn as sns\n",
    "import numpy as np\n",
    "from sklearn.model_selection import train_test_split\n",
    "from sklearn import linear_model \n",
    "import sklearn.metrics as sm\n",
    "import matplotlib.pyplot as plt\n",
    "\n",
    "# Importing Linear Regression model from scikit learn\n",
    "from sklearn.linear_model import LinearRegression\n",
    "# Importing metrics for the evaluation of the model\n",
    "from sklearn.metrics import r2_score,mean_squared_error\n",
    "\n",
    "# read the dataset using pandas\n",
    "data = pd.read_csv('D:/Python ka Chilla/python_chilla/data/Salary_Data.csv')"
   ]
  },
  {
   "cell_type": "markdown",
   "metadata": {},
   "source": [
    "## What is machine learning?\n",
    "Machine learning creates a useful model or program by autonomously testing many solutions against the available data and finding the best fit for the problem. This means machine learning can be great for solving problems that are extremely labor intensive for humans. It can inform decisions and make predictions about complex topics in an efficient and reliable way.\n",
    "\n",
    "These strengths make machine learning useful in a huge number of different industries. The possibilities for machine learning are vast. This technology has the potential to save lives and solve important problems in healthcare, computer security and more."
   ]
  },
  {
   "cell_type": "markdown",
   "metadata": {},
   "source": [
    "# How Machine Learning Works?\n",
    "Machine Learning is, undoubtedly, one of the most exciting subsets of Artificial Intelligence. It completes the task of learning from data with specific inputs to the machine. It’s important to understand what makes Machine Learning work and, thus, how it can be used in the future. \n",
    "\n",
    "The Machine Learning process starts with inputting training data into the selected algorithm. Training data being known or unknown data to develop the final Machine Learning algorithm. The type of training data input does impact the algorithm, and that concept will be covered further momentarily. \n",
    "\n",
    "New input data is fed into the machine learning algorithm to test whether the algorithm works correctly. The prediction and results are then checked against each other.\n",
    "\n",
    "If the prediction and results don’t match, the algorithm is re-trained multiple times until the data scientist gets the desired outcome. This enables the machine learning algorithm to continually learn on its own and produce the optimal answer, gradually increasing in accuracy over time."
   ]
  },
  {
   "cell_type": "markdown",
   "metadata": {},
   "source": [
    "## What are the Different Types of Machine Learning?\n",
    "Machine Learning is complex, which is why it has been divided into two primary areas, supervised learning and unsupervised learning. Each one has a specific purpose and action, yielding results and utilizing various forms of data. Approximately 70 percent of machine learning is supervised learning, while unsupervised learning accounts for anywhere from 10 to 20 percent. The remainder is taken up by reinforcement learning.\n",
    "\n",
    "### 1. Supervised Learning\n",
    "In supervised learning, we use known or labeled data for the training data. Since the data is known, the learning is, therefore, supervised, i.e., directed into successful execution. The input data goes through the Machine Learning algorithm and is used to train the model. Once the model is trained based on the known data, you can use unknown data into the model and get a new response.\n",
    "\n",
    "### Supervised Learning\n",
    "\n",
    "In this case, the model tries to figure out whether the data is an apple or another fruit. Once the model has been trained well, it will identify that the data is an apple and give the desired response.\n",
    "\n",
    "Here is the list of top algorithms currently being used for supervised learning are:\n",
    "\n",
    "* Polynomial regression\n",
    "* Random forest\n",
    "* Linear regression\n",
    "* Logistic regression\n",
    "* Decision trees\n",
    "* K-nearest neighbors\n",
    "* Naive Bayes\n",
    "* The following part of the What is Machine Learning article focuses on unsupervised learning.\n",
    "\n",
    "\n",
    "\n",
    "### 2. Semi-Supervised\n",
    "Semi-supervised machine learning is a combination of supervised and unsupervised machine learning methods.\n",
    "\n",
    "With more common supervised machine learning methods, you train a machine learning algorithm on a “labeled” dataset in which each record includes the outcome information. This allows the algorithm to deduce patterns and identify relationships between your target variable and the rest of the dataset based on information it already has. In contrast, unsupervised machine learning algorithms learn from a dataset without the outcome variable. In semi-supervised learning, an algorithm learns from a dataset that includes both labeled and unlabeled data, usually mostly unlabeled.\n",
    "\n",
    "\n",
    "\n",
    "### 3. Unsupervised Learning\n",
    "In unsupervised learning, the training data is unknown and unlabeled - meaning that no one has looked at the data before. Without the aspect of known data, the input cannot be guided to the algorithm, which is where the unsupervised term originates from. This data is fed to the Machine Learning algorithm and is used to train the model. The trained model tries to search for a pattern and give the desired response. In this case, it is often like the algorithm is trying to break code like the Enigma machine but without the human mind directly involved but rather a machine.\n",
    "\n",
    "#### Unsupervised Learning\n",
    "\n",
    "In this case, the unknown data consists of apples and pears which look similar to each other. The trained model tries to put them all together so that you get the same things in similar groups.\n",
    "\n",
    "The top 7 algorithms currently being used for unsupervised learning are:\n",
    "\n",
    "* Partial least squares\n",
    "* Fuzzy means\n",
    "* Singular value decomposition\n",
    "* K-means clustering\n",
    "* Apriori\n",
    "* Hierarchical clustering\n",
    "* Principal component analysis\n",
    "\n",
    "\n",
    "### 4. Reinforcement Learning\n",
    "Like traditional types of data analysis, here, the algorithm discovers data through a process of trial and error and then decides what action results in higher rewards. Three major components make up reinforcement learning: the agent, the environment, and the actions. The agent is the learner or decision-maker, the environment includes everything that the agent interacts with, and the actions are what the agent does.\n",
    "\n",
    "Reinforcement learning occurs when the agent chooses actions that maximize the expected reward over a given time. This is easiest to achieve when the agent is working within a sound policy framework."
   ]
  },
  {
   "cell_type": "markdown",
   "metadata": {},
   "source": []
  },
  {
   "cell_type": "markdown",
   "metadata": {},
   "source": [
    "### Herein, we share few examples of machine learning that we use everyday and perhaps have no idea that they are driven by ML.\n",
    "* Virtual Personal Assistants. ...\n",
    "* Predictions while Commuting. ...\n",
    "* Videos Surveillance. ...\n",
    "* Social Media Services. ...\n",
    "* Email Spam and Malware Filtering. ...\n",
    "* Online Customer Support. ...\n",
    "* Search Engine Result Refining.\n",
    "* etc"
   ]
  }
 ],
 "metadata": {
  "interpreter": {
   "hash": "9d70aad609970aced91dd5d236a1502174788f0d015a2c74b40cf0eb5361d0f9"
  },
  "kernelspec": {
   "display_name": "Python 3.6.13 64-bit ('python-chilla': conda)",
   "language": "python",
   "name": "python3"
  },
  "language_info": {
   "codemirror_mode": {
    "name": "ipython",
    "version": 3
   },
   "file_extension": ".py",
   "mimetype": "text/x-python",
   "name": "python",
   "nbconvert_exporter": "python",
   "pygments_lexer": "ipython3",
   "version": "3.9.7"
  },
  "orig_nbformat": 4
 },
 "nbformat": 4,
 "nbformat_minor": 2
}
