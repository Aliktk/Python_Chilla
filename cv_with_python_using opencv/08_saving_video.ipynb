{
 "cells": [
  {
   "cell_type": "markdown",
   "metadata": {},
   "source": [
    "## Student Detials\n",
    "> Title= \"Mr\"\\\n",
    "> Name= \"Ali Nawaz\"\\\n",
    "> email = \"nawazktk99@gmail.com\"\\\n",
    "> whatsapp = \"03358043653\""
   ]
  },
  {
   "cell_type": "markdown",
   "metadata": {},
   "source": [
    "## Video loading and playing and changing Channel to Gray and Saving Video"
   ]
  },
  {
   "cell_type": "code",
   "execution_count": 1,
   "metadata": {},
   "outputs": [],
   "source": [
    "# import all the lib\n",
    "import pandas as pd\n",
    "import seaborn as sns\n",
    "import numpy as np\n",
    "import sklearn.metrics as sm\n",
    "import matplotlib.pyplot as plt\n",
    "import cv2\n",
    "import sys\n",
    "%matplotlib inline\n"
   ]
  },
  {
   "cell_type": "code",
   "execution_count": 7,
   "metadata": {},
   "outputs": [],
   "source": [
    "# Create a VideoCapture object and read from input file\n",
    "cap = cv2.VideoCapture('data/video.mp4')\n",
    "# cap = cv2.cvtColor(cap, cv2.COLOR_RGB2GRAY)\n",
    "frame_width = int(cap.get(3)) # 3 is used to get the width \n",
    "frame_height = int(cap.get(4)) # 4 is used to get the height \n",
    "# for mp4 use (\"M\", \"J\", \"P\", \"J\") while for avi use (\"M\", \"J\", \"P\", \"G\") depeds on type you want to save\n",
    "out = cv2.VideoWriter(\"data/out_video.mp4\", cv2.VideoWriter_fourcc(\"M\", \"J\", \"P\", \"G\"), 10, (frame_width, frame_height), isColor = False )\n",
    "while(True):\n",
    "  (ret, frame) = cap.read()\n",
    "  grayframe = cv2.cvtColor(frame, cv2.COLOR_RGB2GRAY)\n",
    "  # (thresh, grayframe) = cv2.threshold(grayframe, 128, 255, cv2.THRESH_BINARY | cv2.THRESH_OTSU)\n",
    "  # to showshow in player\n",
    "  if ret == True:\n",
    "    #  write the frame\n",
    "    out.write(grayframe)\n",
    "    # Display the resulting frame\n",
    "    cv2.imshow('My Video', frame)\n",
    "   \n",
    "    # Press Q on keyboard to  exit\n",
    "    if cv2.waitKey(25) & 0xFF == ord('q'):\n",
    "      break\n",
    "  else:\n",
    "    break\n",
    "cap.release()\n",
    "out.release()\n",
    "   \n",
    "# Closes all the frames\n",
    "cv2.destroyAllWindows()"
   ]
  },
  {
   "cell_type": "markdown",
   "metadata": {},
   "source": []
  }
 ],
 "metadata": {
  "interpreter": {
   "hash": "9d70aad609970aced91dd5d236a1502174788f0d015a2c74b40cf0eb5361d0f9"
  },
  "kernelspec": {
   "display_name": "Python 3.6.13 64-bit ('python-chilla': conda)",
   "language": "python",
   "name": "python3"
  },
  "language_info": {
   "codemirror_mode": {
    "name": "ipython",
    "version": 3
   },
   "file_extension": ".py",
   "mimetype": "text/x-python",
   "name": "python",
   "nbconvert_exporter": "python",
   "pygments_lexer": "ipython3",
   "version": "3.6.13"
  },
  "orig_nbformat": 4
 },
 "nbformat": 4,
 "nbformat_minor": 2
}
