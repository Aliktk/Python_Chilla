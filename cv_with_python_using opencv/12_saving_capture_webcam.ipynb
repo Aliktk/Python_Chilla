{
 "cells": [
  {
   "cell_type": "markdown",
   "metadata": {},
   "source": [
    "## Student Detials\n",
    "> Title= \"Mr\"\\\n",
    "> Name= \"Ali Nawaz\"\\\n",
    "> email = \"nawazktk99@gmail.com\"\\\n",
    "> whatsapp = \"03358043653\""
   ]
  },
  {
   "cell_type": "code",
   "execution_count": 1,
   "metadata": {},
   "outputs": [],
   "source": [
    "# import all the lib\n",
    "import pandas as pd\n",
    "import seaborn as sns\n",
    "import numpy as np\n",
    "import sklearn.metrics as sm\n",
    "import matplotlib.pyplot as plt\n",
    "import cv2\n",
    "\n"
   ]
  },
  {
   "cell_type": "markdown",
   "metadata": {},
   "source": [
    "# Change size and save camera video and change the differnt size of the video with FPS"
   ]
  },
  {
   "cell_type": "code",
   "execution_count": 22,
   "metadata": {},
   "outputs": [],
   "source": [
    "# Create a VideoCapture object and read from input file\n",
    "cap = cv2.VideoCapture(0)\n",
    "# cap = cv2.cvtColor(cap, cv2.COLOR_RGB2GRAY)\n",
    "frame_width = int(cap.get(3)) # 3 is used to get the width \n",
    "frame_height = int(cap.get(4)) # 4 is used to get the height \n",
    "\n",
    "width = 500\n",
    "height = 500\n",
    "# writer = cv2.VideoWriter(filename=\"my_video.avi\",  #Provide a file to write the video to\n",
    "# fourcc=cv2.cv.CV_FOURCC('i','Y', 'U', 'V'),            #Use whichever codec works for you...\n",
    "fps=15,                                        #How many frames do you want to display per second in your video?\n",
    "frameSize=(width, height)                   #The size of the frames you are writing\n",
    "\n",
    "\n",
    "\n",
    "# for mp4 use (\"M\", \"J\", \"P\", \"J\") while for avi use (\"M\", \"J\", \"P\", \"G\") depeds on type you want to save\n",
    "# you can increase the fps rate as per your requirment\n",
    "out = cv2.VideoWriter(\"data/cam_video2.avi\", cv2.VideoWriter_fourcc('i','Y', 'U', 'V'), 30, (width, height), isColor = False) #  remove the icolor for RGB videos add for gray video\n",
    "while(True):\n",
    "    (ret, frame) = cap.read()\n",
    "    grayframe = cv2.cvtColor(frame, cv2.COLOR_RGB2GRAY)\n",
    "    (thresh, binary) = cv2.threshold(grayframe, 128, 255, cv2.THRESH_BINARY | cv2.THRESH_OTSU)\n",
    "    if ret == True:\n",
    "        #  write the frame\n",
    "        out.write(grayframe)\n",
    "    # Display the resulting frame\n",
    "        cv2.imshow('My Video', grayframe)\n",
    "   \n",
    "    # Press Q on keyboard to  exit\n",
    "    if cv2.waitKey(25) & 0xFF == ord('q'):\n",
    "      break\n",
    "cap.release()\n",
    "out.release()\n",
    "cv2.destroyAllWindows()"
   ]
  },
  {
   "cell_type": "code",
   "execution_count": null,
   "metadata": {},
   "outputs": [],
   "source": []
  }
 ],
 "metadata": {
  "interpreter": {
   "hash": "9d70aad609970aced91dd5d236a1502174788f0d015a2c74b40cf0eb5361d0f9"
  },
  "kernelspec": {
   "display_name": "Python 3.6.13 64-bit ('python-chilla': conda)",
   "language": "python",
   "name": "python3"
  },
  "language_info": {
   "codemirror_mode": {
    "name": "ipython",
    "version": 3
   },
   "file_extension": ".py",
   "mimetype": "text/x-python",
   "name": "python",
   "nbconvert_exporter": "python",
   "pygments_lexer": "ipython3",
   "version": "3.6.13"
  },
  "orig_nbformat": 4
 },
 "nbformat": 4,
 "nbformat_minor": 2
}
