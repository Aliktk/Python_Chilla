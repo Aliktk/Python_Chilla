{
 "cells": [
  {
   "cell_type": "markdown",
   "metadata": {},
   "source": [
    "## Student Detials\n",
    "> Title= \"Mr\"\\\n",
    "> Name= \"Ali Nawaz\"\\\n",
    "> email = \"nawazktk99@gmail.com\"\\\n",
    "> whatsapp = \"03358043653\""
   ]
  },
  {
   "cell_type": "code",
   "execution_count": 2,
   "metadata": {},
   "outputs": [],
   "source": [
    "# import all the lib\n",
    "import pandas as pd\n",
    "import seaborn as sns\n",
    "import numpy as np\n",
    "import sklearn.metrics as sm\n",
    "import matplotlib.pyplot as plt\n",
    "import cv2\n",
    "\n"
   ]
  },
  {
   "cell_type": "markdown",
   "metadata": {},
   "source": [
    "# Change setting of camera"
   ]
  },
  {
   "cell_type": "code",
   "execution_count": 7,
   "metadata": {},
   "outputs": [],
   "source": [
    "#read img\n",
    "img = cv2.imread('data/img.jpg')\n",
    "\n",
    "#resize img\n",
    "resize = cv2.resize(img, (500, 500))\n",
    "cv2.imwrite('resize.jpg',resize)\n",
    "#cahnnel conversion\n",
    "gray = cv2.cvtColor(resize, cv2.COLOR_BGR2GRAY)\n",
    "\n",
    "#cahnnel conversion\n",
    "blur = cv2.GaussianBlur(resize, (7,7), 0)\n",
    "\n",
    "cv2.imshow(\"Orginal Image:\", img)\n",
    "cv2.imshow(\"Reseized Image:\", resize)\n",
    "cv2.imshow(\"Gray Image:\", gray)\n",
    "cv2.imshow(\"Blur Image:\", blur)\n",
    "cv2.waitKey()\n",
    "cv2.destroyAllWindows()"
   ]
  },
  {
   "cell_type": "code",
   "execution_count": 13,
   "metadata": {},
   "outputs": [],
   "source": [
    "#read img\n",
    "img = cv2.imread('data/resize.jpg')\n",
    "\n",
    "#cahnnel conversion\n",
    "gray = cv2.cvtColor(resize, cv2.COLOR_BGR2GRAY)\n",
    "\n",
    "#cahnnel conversion\n",
    "blur = cv2.GaussianBlur(resize, (23,23), 0)\n",
    "\n",
    "# cv2.imshow(\"Orginal Image:\", img)\n",
    "cv2.imshow(\"Gray Image:\", gray)\n",
    "cv2.imshow(\"Blur Image:\", blur)\n",
    "cv2.waitKey()\n",
    "cv2.destroyAllWindows()"
   ]
  },
  {
   "cell_type": "markdown",
   "metadata": {},
   "source": [
    "# Edge Detection"
   ]
  },
  {
   "cell_type": "code",
   "execution_count": 14,
   "metadata": {},
   "outputs": [],
   "source": [
    "#cahnnel conversion\n",
    "img = cv2.imread('data/resize.jpg')\n",
    "\n",
    "gray = cv2.cvtColor(resize, cv2.COLOR_BGR2GRAY)\n",
    "\n",
    "edge = cv2.Canny(resize,48,48)\n",
    "\n",
    "# cv2.imshow(\"Orginal Image:\", img)\n",
    "cv2.imshow(\"Gray Image:\", gray)\n",
    "cv2.imshow(\"Edges:\", edge)\n",
    "cv2.waitKey()\n",
    "cv2.destroyAllWindows()"
   ]
  },
  {
   "cell_type": "markdown",
   "metadata": {},
   "source": [
    "# Edge Thickness Change"
   ]
  },
  {
   "cell_type": "code",
   "execution_count": 23,
   "metadata": {},
   "outputs": [],
   "source": [
    "#cahnnel conversion\n",
    "img = cv2.imread('data/resize.jpg')\n",
    "\n",
    "edge = cv2.Canny(img,47,47) # change this kernel put odd numbers or size u can change\n",
    "# dilation\n",
    "kernell = np.ones((7,7), np.uint8)\n",
    "dilat = cv2.dilate(edge, kernell, iterations = 1)\n",
    "\n",
    "# cv2.imshow(\"Orginal Image:\", img)\n",
    "cv2.imshow(\"Edges Image:\", edge)\n",
    "cv2.imshow(\"Dilated:\", dilat)\n",
    "cv2.waitKey()\n",
    "cv2.destroyAllWindows()"
   ]
  },
  {
   "cell_type": "markdown",
   "metadata": {},
   "source": [
    "# Start with guraye gay adience k samny (molecue of ur body give confidence)\n",
    "1. know you audionce (e.g 10th, bachor, phd etc) it's not included\n",
    "2. know the culture nome os ur audiice\n",
    "3. mix achar nae khana (copy script and thorw at once to your audience) don't mix ur script\n",
    "4. divied ur script and speech into 4 parts or 8 parts etc. (first 8 sec crucial they will listen for 2 mintues)\n",
    "5. In 8 sec forget science and asan alfaz may bata day 1 line may keh day aur bad may jo chez hy usko connect kry.\n",
    "6. example(credit card competition: 1st. no statistics just tell real story 2nd. dost ka naam lay k story bata day,\n",
    "3rd. give easy name of your story heros ) (trick for female or male depends on ur audience mentality)\n",
    "7. 6say 10 din pehly sochna shuro kry \n",
    "8. \n",
    "\n",
    "\n",
    "1. introduce daily at evening\n",
    " \n",
    "\n"
   ]
  },
  {
   "cell_type": "markdown",
   "metadata": {},
   "source": [
    "Sochna kasy hy\\\n",
    "kis chez ko present krna hy\\\n",
    "first thing (need highlight the problem to the layman)"
   ]
  },
  {
   "cell_type": "markdown",
   "metadata": {},
   "source": [
    "# Introduce your self\n",
    "1. 30 mint every day practice to introduce your self.\n",
    "2. Try to find your pitch in your voice and mono tone with high and low pitch\n",
    "3. Make sure your title is best to pick and play with title and play with audience (uniqe title)\n",
    "4. Make connection with your audience and capture them and arrest their attention\n",
    "5. Roho roho wali baty na shuro kary don't use difficult words any time with frist 10 seconds\n",
    "6. Take pauses of few seconds\n",
    "7. Then start with some scientfic words and your work and mold your idea and voice and start with specific words\n",
    "8. Don't use slang and short lines. Don't be perfact with other language.\n",
    "9. Perfact your posture don't be like ( but you have posture like |. (make some search how to make posture straight)\n",
    "10. Make your belly inner side or over come (be physically fit)\n"
   ]
  },
  {
   "cell_type": "markdown",
   "metadata": {},
   "source": [
    "# How to Prepare yourself your for Interview on computer\n",
    "1. Buy a Mike for Interview\n",
    "2. No Mobile use during Interview\n",
    "3. Best dress with the culture nome and also you feel confident\n",
    "4. Best Internet and Backup\n",
    "5. Charge yout Laptop and backup charging plan\n",
    "6. Camera and your postition is in center which show your best position to show\n",
    "7. you have to show you mono tone background don't remove background or use white or decent background\n",
    "8. Don't move wth your camera frame side or something else\n",
    "9. Use app for your camera (iriun) it use to work \n",
    "10. Use tissue for cleaning your nose\n",
    "11. Don't use big Airpod or big Airphone\n",
    "12. Eye Contact with your audience and juges\n",
    "13. how audience to eye contact slides \n",
    "14. Don't show your back\n",
    "15. Use pointer and \n",
    "16. Wear Dark color \n",
    "17. Don't \n",
    "18. Use sticky note to write your most appropriate question and answer\n",
    "19. answer the question in best way confidently\n",
    "20. don't be sorry if you don't have answer\n",
    "21. try to research about the compnay, university or compnay what they are doing etc.\n",
    "22. Try to read everything about the website and paper or supervisor\n",
    "23. Make a script to present your self. (script will take in a flow)  \n",
    "24. Divide your Story in parts (But you know the whole story first)\n",
    "25. Story telling as like normalize graph distribution\n",
    "    1.  bhook\n",
    "    2.  ghar ka masla\n",
    "    3.  baba story\n",
    "    4.  glass of water\n",
    "    5.  Research\n",
    "    6.  Bio fertilizer\n",
    "    7.  Take home or call to action\n",
    "    8.  Ending\n",
    "\n",
    "26. Define A Mode (Sad, happy,excited and retain)\n",
    "27. Pauses in your story\n",
    "28. Pitch of your voice (mono tone and set vocal) ECG of your voice control their heart and beat with your words.\n",
    "29. Continuity in your whole presentation\n",
    "30. Don't be phumble and tempo (atkna)\n",
    "31. Don't use double meaning\n",
    "32. Practice and Practice before presentation\n",
    "33. Than practice with some expertise\n",
    "34. Ending line poetry type in few words (rimes)\n",
    "35. Tell Impact on your life, for the whole world, for my country and for this organization.\n"
   ]
  },
  {
   "cell_type": "markdown",
   "metadata": {},
   "source": [
    "Slides content:\n",
    "1. Don't go Wide area slides HD, not use squre\n",
    "2. Slides Content\n",
    "   1. Title: in center title, transparent logos below, compnay etc,Nam below ur title than affliation, \n",
    "   2. Flow Chart from start to end that how we will go through but don't tell end etc don't let ur audience non-curious\n",
    "   3. Don't let them go to end result in start maintain curusity or increase\n",
    "   4. Just say aim only not types, etc etc of your slides\n",
    "   5. software use: Canva, Bio Render (For Bio), Draw.io(Best),  Inkscape, Gimp, for video (Lumin pro), poster my wall, Dalsamic\n",
    "   6. Graphical Summary and pitch and related icon, infographic to show the content\n",
    "3. How much content slides:\n",
    "   1. Link your problem with you aim\n",
    "   2. how you did, why, who, what, which, (ans one by one the WH questions)\n",
    "   3. Tell about market size (How much or how many people are affected, any impact on the world, people etc)\n",
    "   4. who (use team we if alone than sa I)\n",
    "   5. Take Home Message showing using graphics.\n",
    "4. How much lines in a single slide: almost (5 7)\n",
    "5. How much you talk about single slides: depends on the pitch and content and lower or higher your voice\n",
    "6. \n"
   ]
  },
  {
   "cell_type": "markdown",
   "metadata": {},
   "source": []
  }
 ],
 "metadata": {
  "interpreter": {
   "hash": "9d70aad609970aced91dd5d236a1502174788f0d015a2c74b40cf0eb5361d0f9"
  },
  "kernelspec": {
   "display_name": "Python 3.6.13 64-bit ('python-chilla': conda)",
   "language": "python",
   "name": "python3"
  },
  "language_info": {
   "codemirror_mode": {
    "name": "ipython",
    "version": 3
   },
   "file_extension": ".py",
   "mimetype": "text/x-python",
   "name": "python",
   "nbconvert_exporter": "python",
   "pygments_lexer": "ipython3",
   "version": "3.6.13"
  },
  "orig_nbformat": 4
 },
 "nbformat": 4,
 "nbformat_minor": 2
}
