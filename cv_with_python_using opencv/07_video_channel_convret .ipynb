{
 "cells": [
  {
   "cell_type": "markdown",
   "metadata": {},
   "source": [
    "## Student Detials\n",
    "> Title= \"Mr\"\\\n",
    "> Name= \"Ali Nawaz\"\\\n",
    "> email = \"nawazktk99@gmail.com\"\\\n",
    "> whatsapp = \"03358043653\""
   ]
  },
  {
   "cell_type": "markdown",
   "metadata": {},
   "source": [
    "## Video loading and playing and changing Channel to Gray and Binary"
   ]
  },
  {
   "cell_type": "code",
   "execution_count": 1,
   "metadata": {},
   "outputs": [],
   "source": [
    "# import all the lib\n",
    "import pandas as pd\n",
    "import seaborn as sns\n",
    "import numpy as np\n",
    "import sklearn.metrics as sm\n",
    "import matplotlib.pyplot as plt\n",
    "import cv2\n",
    "import sys\n",
    "%matplotlib inline\n"
   ]
  },
  {
   "cell_type": "code",
   "execution_count": 1,
   "metadata": {},
   "outputs": [],
   "source": [
    "# importing the module\n",
    "import cv2\n",
    " \n",
    "# reading the video\n",
    "source = cv2.VideoCapture('data/video.mp4')\n",
    " \n",
    "# running the loop\n",
    "while True:\n",
    " \n",
    "    # extracting the frames\n",
    "    ret, img = source.read()\n",
    "     \n",
    "    # converting to gray-scale\n",
    "    gray = cv2.cvtColor(img, cv2.COLOR_BGR2GRAY)\n",
    " \n",
    "    # displaying the video\n",
    "    cv2.imshow(\"Live\", gray)\n",
    " \n",
    "    # exiting the loop\n",
    "    # key = cv2.waitKey(1)\n",
    "    if cv2.waitKey(25) & 0xFF == ord(\"q\"):\n",
    "        break\n",
    "     \n",
    "# closing the window\n",
    "cv2.destroyAllWindows()\n",
    "source.release()"
   ]
  },
  {
   "cell_type": "code",
   "execution_count": 4,
   "metadata": {},
   "outputs": [],
   "source": [
    "# Create a VideoCapture object and read from input file\n",
    "cap = cv2.VideoCapture('data/video.mp4')\n",
    "# cap = cv2.cvtColor(cap, cv2.COLOR_RGB2GRAY)\n",
    "\n",
    "while(True):\n",
    "  (ret, frame) = cap.read()\n",
    "  grayframe = cv2.cvtColor(frame, cv2.COLOR_RGB2GRAY)\n",
    "  (thresh, grayframe) = cv2.threshold(grayframe, 128, 255, cv2.THRESH_BINARY | cv2.THRESH_OTSU)\n",
    "  # to showshow in player\n",
    "  if ret == True:\n",
    "   \n",
    "    # Display the resulting frame\n",
    "    cv2.imshow('My Video', grayframe)\n",
    "   \n",
    "    # Press Q on keyboard to  exit\n",
    "    if cv2.waitKey(25) & 0xFF == ord('q'):\n",
    "      break\n",
    "  else:\n",
    "    break\n",
    "cap.release()\n",
    "   \n",
    "# Closes all the frames\n",
    "cv2.destroyAllWindows()"
   ]
  },
  {
   "cell_type": "markdown",
   "metadata": {},
   "source": []
  }
 ],
 "metadata": {
  "interpreter": {
   "hash": "9d70aad609970aced91dd5d236a1502174788f0d015a2c74b40cf0eb5361d0f9"
  },
  "kernelspec": {
   "display_name": "Python 3.6.13 64-bit ('python-chilla': conda)",
   "language": "python",
   "name": "python3"
  },
  "language_info": {
   "codemirror_mode": {
    "name": "ipython",
    "version": 3
   },
   "file_extension": ".py",
   "mimetype": "text/x-python",
   "name": "python",
   "nbconvert_exporter": "python",
   "pygments_lexer": "ipython3",
   "version": "3.6.13"
  },
  "orig_nbformat": 4
 },
 "nbformat": 4,
 "nbformat_minor": 2
}
