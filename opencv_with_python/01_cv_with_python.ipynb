{
 "cells": [
  {
   "cell_type": "markdown",
   "metadata": {},
   "source": [
    "## Student Detials\n",
    "> Title= \"Mr\"\\\n",
    "> Name= \"Ali Nawaz\"\\\n",
    "> email = \"nawazktk99@gmail.com\"\\\n",
    "> whatsapp = \"03358043653\""
   ]
  },
  {
   "cell_type": "markdown",
   "metadata": {},
   "source": [
    "### In this Notebook I am are going to Explore OpenCV with Python"
   ]
  },
  {
   "cell_type": "code",
   "execution_count": null,
   "metadata": {},
   "outputs": [],
   "source": [
    "Layer"
   ]
  },
  {
   "cell_type": "markdown",
   "metadata": {},
   "source": [
    "### Layout\n",
    "> + Introduction to images\n",
    "> + installation\n",
    "> + Read Data\n",
    ">   + Images\n",
    ">   + Videos\n",
    ">   + Webcam (live)\n",
    "> + Importatnt function to be used in Opencv\n",
    "> + Scalling or normalizing images\n",
    "> + Adding objects to images\n",
    "> + Wrap and Persecpetives\n",
    "> + Joining images\n",
    "> + Color detection\n",
    "> + Edge detection\n",
    "> + Face Detection\n",
    "> + Projcet\n",
    ">   + Car Counter\n",
    ">   + Face Detection and much more\n"
   ]
  },
  {
   "cell_type": "markdown",
   "metadata": {},
   "source": [
    "# What is Pixel:\n",
    "A pixel is the smallest unit of a digital image or graphic that can be displayed and represented on a digital display device.\n",
    "\n",
    "A pixel is the basic logical unit in digital graphics. Pixels are combined to form a complete image, video, text, or any visible thing on a computer display.\n",
    "\n",
    "A pixel is also known as a picture element (pix = picture, el = element)."
   ]
  },
  {
   "cell_type": "markdown",
   "metadata": {},
   "source": [
    "### Pixel may refer to any of the following:\n",
    "\n",
    "## Pixels\n",
    "1. Term that comes from the words PEL (picture element). A px (pixel) is the smallest portion of an image or display that a computer is capable of printing or displaying. You can get a better understanding of what a pixel is when zooming into an image as seen in the picture.\n",
    "\n",
    "As you can see in this example, the character image in this picture is zoomed into at 1600%. Each of the blocks seen in the example picture is a single pixel of this image. Everything on the computer display looks similar to this when zoomed in upon. The same is true with printed images, which are created by several little dots that are measured in DPI.\n",
    "\n",
    "## Screen pixels\n",
    "In the picture below is an example of a close up of pixels on an LCD screen. As shown in the picture, we've zoomed into the \"he\" part of the word \"help\" to illustrate how the display works. Each pixel has RGB (red, green, and blue) color components. The brightness of each component is increased or decreased to produce the variance of colors you see on the screen."
   ]
  },
  {
   "cell_type": "markdown",
   "metadata": {},
   "source": [
    "![Image](https://www.computerhope.com/cdn/monitor-pixel.jpg)"
   ]
  },
  {
   "cell_type": "markdown",
   "metadata": {},
   "source": [
    "# Screen Size\n",
    "We have different types of Scren sizes\n",
    "1. VGA\n",
    "2. SXGA\n",
    "3. HDTV\n",
    "4. 4K"
   ]
  },
  {
   "cell_type": "markdown",
   "metadata": {},
   "source": [
    "![image](D:/Python ka Chilla/python_chilla/cv_with_python_using opencv/image types.png)"
   ]
  },
  {
   "cell_type": "markdown",
   "metadata": {},
   "source": [
    "## More than just RGB\n",
    "Let’s talk about color modes a little bit more. A color model is a system for creating a full range of colors \n",
    "using the primary colors. There are two different color models here: additive color models and subtractive color\n",
    "models. Additive models use light to represent colors in computer screens while subtractive models use inks to \n",
    "print those digital images on papers. The primary colors are red, green and blue (RGB) for the first one and \n",
    "cyan, magenta, yellow and black (CMYK) for the latter one. All the other colors we see on images are made by \n",
    "combining or mixing these primary colors. So the pictures can be depicted a little bit differently when they \n",
    "are represented in RGB and CMYK.\n",
    "\n",
    "![image](https://miro.medium.com/max/2000/1*CSmlQDizc03csCaSgMgMIw.png)"
   ]
  },
  {
   "cell_type": "markdown",
   "metadata": {},
   "source": [
    "You would be pretty accustomed to these two kinds of models. In the world of color models, however, there are more than two kinds of models. Among them, grayscale, HSV and HLS are the ones you’re going to see quite often in computer vision.\n",
    "\n",
    "A grayscale is simple. It represents images and morphologies by the intensity of black and white, which means it has only one channel. To see images in grayscale, we need to convert the color mode into gray just as what we did with the BGR image earlier."
   ]
  },
  {
   "cell_type": "markdown",
   "metadata": {},
   "source": [
    "## Bits or Bit Depth\n",
    "Bit depth refers to the color information stored in an image. The higher the bit depth of an image, the more colors it can store. The simplest image, a 1 bit image, can only show two colors, black and white. That is because the 1 bit can only store one of two values, 0 (white) and 1 (black)."
   ]
  },
  {
   "cell_type": "markdown",
   "metadata": {},
   "source": [
    "![image](https://miro.medium.com/max/2000/1*E1cRhyj4ByJ_qrTev3hTlA.png)"
   ]
  },
  {
   "cell_type": "markdown",
   "metadata": {},
   "source": [
    "![image](https://miro.medium.com/max/2000/1*zeVGeXCBFE4FLSbv_bUaLw.png)"
   ]
  },
  {
   "cell_type": "markdown",
   "metadata": {},
   "source": [
    "Take a look at the images above. The three images show you how each channel is composed of. In the R channel picture, the part with the high saturation of red colors looks white. Why is that? This is because the values in the red color parts will be near 255. And in grayscale mode, the higher the value is, the whiter the color becomes. You can also check this with G or B channels and compare how certain parts differ one from another."
   ]
  },
  {
   "cell_type": "markdown",
   "metadata": {},
   "source": [
    "![image](https://miro.medium.com/max/1400/1*t6gJMcMAu8EUXcgbhhGy5Q.png)"
   ]
  },
  {
   "cell_type": "markdown",
   "metadata": {},
   "source": [
    "HSV and HLS take a bit different aspect. As you can see above, they have a three-dimensional representation, and it’s more similar to the way of human perception. HSV stands for hue, saturation and value. HSL stands for hue, saturation and lightness. The center axis for HSV is the value of colors while that for HSL is the amount of light. Along the angles from the center axis, there is hue, the actual colors. And the distance from the center axis belongs to saturation. "
   ]
  },
  {
   "cell_type": "markdown",
   "metadata": {},
   "source": [
    "![image](https://miro.medium.com/max/2000/1*f3pRIVbutpa9KBwuqsl43w.png)"
   ]
  },
  {
   "cell_type": "markdown",
   "metadata": {},
   "source": [
    "## Gray Scale\n",
    "Multilevel\n",
    "## Black = 0\n",
    "## Gray = 1-255\n",
    "## White = 256\n",
    "8 bit 2**8= 256"
   ]
  },
  {
   "cell_type": "markdown",
   "metadata": {},
   "source": [
    "## Bits or Bit Depth\n",
    "A colr image is typically represented by a bit dept ranign from 8 to 24 or hhiher\n",
    "\n",
    "With a 24-bit image the bit are often divied into three groping: 8 for red and 8 for green and 8 for blue channel.\n",
    "\n",
    "Combinaing pf bits are used to reprent those bit. \n",
    "\n",
    "A 24 bit images offers 16.7 milion 2**24 colors"
   ]
  },
  {
   "cell_type": "markdown",
   "metadata": {},
   "source": [
    "## Three kind of images\n",
    "![image](http://preservationtutorial.library.cornell.edu/tutorial-images/bitdepth.gif)\n",
    "\n",
    "**Bit Depth:** Left to right - 1-bit bitonal, 8-bit grayscale, and 24-bit color images.\n",
    "\n",
    "Binary calculations for the number of tones represented by common bit depths:\n",
    "\n",
    "1. 1 bit (21) = 2 tones\n",
    "2. 2 bits (22) = 4 tones\n",
    "3. 3 bits (23) = 8 tones\n",
    "4. 4 bits (24) = 16 tones\n",
    "5. 8 bits (28) = 256 tones\n",
    "6. 16 bits (216) = 65,536 tones\n",
    "7. 24 bits (224) = 16.7 million tones"
   ]
  },
  {
   "cell_type": "markdown",
   "metadata": {},
   "source": [
    "## Videos\n",
    "its a continous sequence of images \n",
    "like:\n",
    "\n",
    "![image](https://miro.medium.com/max/1400/1*vstp_yyHEIWuFTyVLE6LyQ.png)"
   ]
  },
  {
   "cell_type": "markdown",
   "metadata": {},
   "source": [
    "## Frame per Second (fps)\n",
    "Frames Per Second or FPS is the rate at which back to back images called frames appear in a display and form moving imagery. \n",
    "\n",
    "Video content that we consume daily isn’t actually moving. In fact, they are still images that play one after the other. If a video is shot at 24fps, this means that 24 individual frames are played back in a second. They change at a different rate across mediums depending on a lot of other factors. "
   ]
  },
  {
   "cell_type": "markdown",
   "metadata": {},
   "source": [
    "## calculated FPS in video:\n",
    "* for 60 fps: 3600 frames\n",
    "* for 24 fps: 1440 frames\n",
    "* for 15 fps: 900 frames"
   ]
  },
  {
   "cell_type": "markdown",
   "metadata": {},
   "source": [
    "## Detecting Images is Similir to videos:\n",
    "\n",
    "So images is move during video and you have to track. E.g selfi tracking"
   ]
  },
  {
   "cell_type": "code",
   "execution_count": null,
   "metadata": {},
   "outputs": [],
   "source": []
  },
  {
   "cell_type": "markdown",
   "metadata": {},
   "source": [
    "### Installing python and opencv"
   ]
  },
  {
   "cell_type": "markdown",
   "metadata": {},
   "source": [
    "```\n",
    "\n",
    "!pip install python\n",
    "!pip install python-opencv\n",
    "\n",
    "```"
   ]
  },
  {
   "cell_type": "markdown",
   "metadata": {},
   "source": []
  },
  {
   "cell_type": "code",
   "execution_count": 1,
   "metadata": {},
   "outputs": [
    {
     "data": {
      "text/plain": [
       "<matplotlib.image.AxesImage at 0x18f9631e630>"
      ]
     },
     "execution_count": 1,
     "metadata": {},
     "output_type": "execute_result"
    },
    {
     "data": {
      "image/png": "[encoded data removed]",
      "text/plain": [
       "<Figure size 432x288 with 1 Axes>"
      ]
     },
     "metadata": {
      "needs_background": "light"
     },
     "output_type": "display_data"
    }
   ],
   "source": [
    "import numpy as np\n",
    "import cv2\n",
    "import matplotlib.pyplot as plt\n",
    "%matplotlib inline\n",
    "# Import the image\n",
    "img = cv2.imread('data/img.jpg')\n",
    "plt.imshow(img)"
   ]
  },
  {
   "cell_type": "code",
   "execution_count": 2,
   "metadata": {},
   "outputs": [
    {
     "data": {
      "text/plain": [
       "-1"
      ]
     },
     "execution_count": 2,
     "metadata": {},
     "output_type": "execute_result"
    }
   ],
   "source": [
    "# or open with cv2 not using plt\n",
    "cv2.imshow('Image Window', img)\n",
    "cv2.waitKey(0)"
   ]
  },
  {
   "cell_type": "code",
   "execution_count": null,
   "metadata": {},
   "outputs": [],
   "source": []
  }
 ],
 "metadata": {
  "interpreter": {
   "hash": "9d70aad609970aced91dd5d236a1502174788f0d015a2c74b40cf0eb5361d0f9"
  },
  "kernelspec": {
   "display_name": "Python 3.6.13 64-bit ('python-chilla': conda)",
   "language": "python",
   "name": "python3"
  },
  "language_info": {
   "codemirror_mode": {
    "name": "ipython",
    "version": 3
   },
   "file_extension": ".py",
   "mimetype": "text/x-python",
   "name": "python",
   "nbconvert_exporter": "python",
   "pygments_lexer": "ipython3",
   "version": "3.6.13"
  },
  "orig_nbformat": 4
 },
 "nbformat": 4,
 "nbformat_minor": 2
}
