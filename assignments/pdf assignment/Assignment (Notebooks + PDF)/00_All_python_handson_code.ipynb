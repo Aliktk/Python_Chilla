{
 "cells": [
  {
   "cell_type": "markdown",
   "metadata": {},
   "source": [
    "### Python Chilla with Baba Ammar\n",
    "> **Title= \"Mr\"**\\\n",
    "> **Name= \"Ali Nawaz\"**\\\n",
    "> **email = \"nawazktk99@gmail.com\"**\\\n",
    "> **whatsapp = \"03358043653\"**\\\n",
    "> **Artificial Intelligence Engineer at NUST**\\\n",
    "> **Education : Master in Software Engineering**"
   ]
  },
  {
   "cell_type": "markdown",
   "metadata": {},
   "source": [
    "# First Line Of Code"
   ]
  },
  {
   "cell_type": "code",
   "execution_count": 1,
   "metadata": {},
   "outputs": [
    {
     "name": "stdout",
     "output_type": "stream",
     "text": [
      "Hello World!\n",
      "Wellcome to Data Science Chilla\n",
      "5\n"
     ]
    }
   ],
   "source": [
    "print(\"Hello World!\")\n",
    "print(\"Wellcome to Data Science Chilla\")\n",
    "print(2+3)"
   ]
  },
  {
   "cell_type": "markdown",
   "metadata": {},
   "source": [
    "# Operator"
   ]
  },
  {
   "cell_type": "code",
   "execution_count": 2,
   "metadata": {},
   "outputs": [
    {
     "name": "stdout",
     "output_type": "stream",
     "text": [
      "9\n",
      "3\n",
      "18\n",
      "0.5\n",
      "0\n",
      "3\n",
      "729\n",
      "557.0\n"
     ]
    }
   ],
   "source": [
    "# addition\n",
    "print(3+6)\n",
    "\n",
    "# sub\n",
    "print(6-3)\n",
    "\n",
    "# mul\n",
    "print(3*6)\n",
    "\n",
    "# div\n",
    "print(3/6)\n",
    "\n",
    "# reminder\n",
    "print(3//6)\n",
    "\n",
    "# modulus\n",
    "print(3%6)\n",
    "\n",
    "# power\n",
    "print(3**6)\n",
    "\n",
    "# precedence PEMDAS (for remembraing)\n",
    "print(3+6+(69*8)-8/2)"
   ]
  },
  {
   "cell_type": "markdown",
   "metadata": {},
   "source": [
    "# Strings"
   ]
  },
  {
   "cell_type": "code",
   "execution_count": 3,
   "metadata": {},
   "outputs": [
    {
     "name": "stdout",
     "output_type": "stream",
     "text": [
      "Hello World!\n",
      "Wellcome to Data Science Chilla\n",
      "Wellcome to Data Science Chilla\n"
     ]
    }
   ],
   "source": [
    "# we are using string using like this\n",
    "# single, double and three qoutation marks.\n",
    "print(\"Hello World!\")\n",
    "print(\"Wellcome to Data Science Chilla\")\n",
    "print('''Wellcome to Data Science Chilla''')\n",
    "\n"
   ]
  },
  {
   "cell_type": "markdown",
   "metadata": {},
   "source": [
    "# Comments"
   ]
  },
  {
   "cell_type": "code",
   "execution_count": 4,
   "metadata": {},
   "outputs": [],
   "source": [
    "# name = str(input(\"Enter Your Name: \"))\n",
    "# hash is used for commenting control + /"
   ]
  },
  {
   "cell_type": "markdown",
   "metadata": {},
   "source": [
    "# Variables"
   ]
  },
  {
   "cell_type": "code",
   "execution_count": 5,
   "metadata": {},
   "outputs": [
    {
     "name": "stdout",
     "output_type": "stream",
     "text": [
      "AliAliAliAliAli\n",
      "<class 'float'>\n",
      "<class 'int'>\n",
      "<class 'str'>\n"
     ]
    }
   ],
   "source": [
    "a = 5\n",
    "name= 'Ali'\n",
    "pi = 3.14\n",
    "print(a*name)\n",
    "\n",
    "print(type(pi))\n",
    "print(type(a))\n",
    "print(type(name))"
   ]
  },
  {
   "cell_type": "markdown",
   "metadata": {},
   "source": [
    "# Input Variables"
   ]
  },
  {
   "cell_type": "code",
   "execution_count": 6,
   "metadata": {},
   "outputs": [
    {
     "name": "stdout",
     "output_type": "stream",
     "text": [
      "This is your name: 5\n"
     ]
    }
   ],
   "source": [
    "name = str(input(\"Enter Your Name: \"))\n",
    "height = float(input(\"Put your Height in Meters: \"))\n",
    "weight = float(input(\"Put your Weight in KG: \"))\n",
    "age = int(input(\"Enter Your Name: \"))\n",
    "\n",
    "print(\"This is your name:\", name)"
   ]
  },
  {
   "cell_type": "markdown",
   "metadata": {},
   "source": [
    "# Condition Logics"
   ]
  },
  {
   "cell_type": "code",
   "execution_count": 7,
   "metadata": {},
   "outputs": [
    {
     "name": "stdout",
     "output_type": "stream",
     "text": [
      "False\n"
     ]
    }
   ],
   "source": [
    "# print(4>3)\n",
    "# print(4==4)\n",
    "# print(4<3)\n",
    "# print(4>=3)\n",
    "# print(3>=3)\n",
    "\n",
    "age = int(input(\"Age of students: \"))\n",
    "age_ate_school = int(input(\"Age of students: \"))\n",
    "print(age== age_ate_school)"
   ]
  },
  {
   "cell_type": "markdown",
   "metadata": {},
   "source": [
    "# Conversion"
   ]
  },
  {
   "cell_type": "code",
   "execution_count": 8,
   "metadata": {},
   "outputs": [
    {
     "name": "stdout",
     "output_type": "stream",
     "text": [
      "x is of type: <class 'int'>\n",
      "y is of type: <class 'float'>\n",
      "20.6\n",
      "x is of type: <class 'float'>\n",
      "After converting to integer base 2 : 18\n",
      "After converting to float : 10010.0\n"
     ]
    }
   ],
   "source": [
    "x = 10\n",
    " \n",
    "print(\"x is of type:\",type(x))\n",
    " \n",
    "y = 10.6\n",
    "print(\"y is of type:\",type(y))\n",
    " \n",
    "x = x + y\n",
    " \n",
    "print(x)\n",
    "print(\"x is of type:\",type(x))\n",
    "\n",
    "\n",
    "# Python code to demonstrate Type conversion\n",
    "# using int(), float()\n",
    " \n",
    "# initializing string\n",
    "s = \"10010\"\n",
    " \n",
    "# printing string converting to int base 2\n",
    "c = int(s,2)\n",
    "print (\"After converting to integer base 2 : \", end=\"\")\n",
    "print (c)\n",
    " \n",
    "# printing string converting to float\n",
    "e = float(s)\n",
    "print (\"After converting to float : \", end=\"\")\n",
    "print (e)"
   ]
  },
  {
   "cell_type": "markdown",
   "metadata": {},
   "source": [
    "# Condition"
   ]
  },
  {
   "cell_type": "code",
   "execution_count": 9,
   "metadata": {},
   "outputs": [
    {
     "name": "stdout",
     "output_type": "stream",
     "text": [
      "I am Not in if\n",
      "i is greater than 15\n",
      "i'm in else Block\n",
      "i'm not in if and not in else Block\n",
      "i is 20\n"
     ]
    }
   ],
   "source": [
    "# python program to illustrate If statement\n",
    " \n",
    "i = 10\n",
    " \n",
    "if (i > 15):\n",
    "    print(\"10 is less than 15\")\n",
    "print(\"I am Not in if\")\n",
    "\n",
    "# python program to illustrate If else statement\n",
    "#!/usr/bin/python\n",
    " \n",
    "i = 20\n",
    "if (i < 15):\n",
    "    print(\"i is smaller than 15\")\n",
    "    print(\"i'm in if Block\")\n",
    "else:\n",
    "    print(\"i is greater than 15\")\n",
    "    print(\"i'm in else Block\")\n",
    "print(\"i'm not in if and not in else Block\")\n",
    "\n",
    "\n",
    "# Python program to illustrate if-elif-else ladder\n",
    "#!/usr/bin/python\n",
    " \n",
    "i = 20\n",
    "if (i == 10):\n",
    "    print(\"i is 10\")\n",
    "elif (i == 15):\n",
    "    print(\"i is 15\")\n",
    "elif (i == 20):\n",
    "    print(\"i is 20\")\n",
    "else:\n",
    "    print(\"i is not present\")"
   ]
  },
  {
   "cell_type": "markdown",
   "metadata": {},
   "source": [
    "# Functions"
   ]
  },
  {
   "cell_type": "code",
   "execution_count": 10,
   "metadata": {},
   "outputs": [
    {
     "name": "stdout",
     "output_type": "stream",
     "text": [
      "Welcome to Chilla\n",
      "even\n",
      "odd\n",
      "Python Practice\n",
      "Python Practice\n"
     ]
    }
   ],
   "source": [
    "# A simple Python function\n",
    " \n",
    "def fun():\n",
    "  print(\"Welcome to Chilla\")\n",
    "\n",
    "\n",
    "  # A simple Python function\n",
    " \n",
    "def fun():\n",
    "  print(\"Welcome to Chilla\")\n",
    "         \n",
    "# Driver code to call a function\n",
    "fun()\n",
    "\n",
    "\n",
    "# A simple Python function to check\n",
    "# whether x is even or odd\n",
    " \n",
    " \n",
    "def evenOdd(x):\n",
    "    if (x % 2 == 0):\n",
    "        print(\"even\")\n",
    "    else:\n",
    "        print(\"odd\")\n",
    " \n",
    " \n",
    "# Driver code to call the function\n",
    "evenOdd(2)\n",
    "evenOdd(3)\n",
    "\n",
    "\n",
    "\n",
    "# Python program to demonstrate Keyword Arguments\n",
    "def student(firstname, lastname):\n",
    "    print(firstname, lastname)\n",
    " \n",
    " \n",
    "# Keyword arguments\n",
    "student(firstname='Python', lastname='Practice')\n",
    "student(lastname='Practice', firstname='Python')"
   ]
  },
  {
   "cell_type": "markdown",
   "metadata": {},
   "source": [
    "# Loops in Python"
   ]
  },
  {
   "cell_type": "code",
   "execution_count": 11,
   "metadata": {},
   "outputs": [
    {
     "name": "stdout",
     "output_type": "stream",
     "text": [
      "Hello Students\n",
      "Hello Students\n",
      "Hello Students\n",
      "Current Letter : e\n",
      "0\n",
      "1\n",
      "2\n",
      "3\n",
      "geeks\n",
      "for\n",
      "geeks\n"
     ]
    }
   ],
   "source": [
    "# Python program to illustrate\n",
    "# while loop\n",
    "count = 0\n",
    "while (count < 3):\n",
    "    count = count + 1\n",
    "    print(\"Hello Students\")\n",
    "\n",
    "\n",
    "for letter in 'geeksforgeeks':\n",
    " \n",
    "    # break the loop as soon it sees 'e'\n",
    "    # or 's'\n",
    "    if letter == 'e' or letter == 's':\n",
    "        break\n",
    " \n",
    "print('Current Letter :', letter)\n",
    "\n",
    "\n",
    "# Python program to illustrate\n",
    "# Iterating over range 0 to n-1\n",
    " \n",
    "n = 4\n",
    "for i in range(0, n):\n",
    "    print(i)\n",
    "\n",
    "list = [\"geeks\", \"for\", \"geeks\"]\n",
    "for index in range(len(list)):\n",
    "    print(list[index])\n",
    "\n"
   ]
  },
  {
   "cell_type": "markdown",
   "metadata": {},
   "source": [
    "# Libraries Importing"
   ]
  },
  {
   "cell_type": "code",
   "execution_count": 12,
   "metadata": {},
   "outputs": [
    {
     "name": "stdout",
     "output_type": "stream",
     "text": [
      "value of pi is: 3.141592653589793\n",
      "4.0\n",
      "720\n",
      "['d:\\\\Python ka Chilla\\\\python_chilla\\\\Python_hands_on', 'c:\\\\Users\\\\Ali\\\\.vscode\\\\extensions\\\\ms-toolsai.jupyter-2021.11.1001550889\\\\pythonFiles', 'c:\\\\Users\\\\Ali\\\\.vscode\\\\extensions\\\\ms-toolsai.jupyter-2021.11.1001550889\\\\pythonFiles\\\\lib\\\\python', 'C:\\\\Users\\\\Ali\\\\anaconda3\\\\envs\\\\python-chilla\\\\python36.zip', 'C:\\\\Users\\\\Ali\\\\anaconda3\\\\envs\\\\python-chilla\\\\DLLs', 'C:\\\\Users\\\\Ali\\\\anaconda3\\\\envs\\\\python-chilla\\\\lib', 'C:\\\\Users\\\\Ali\\\\anaconda3\\\\envs\\\\python-chilla', '', 'C:\\\\Users\\\\Ali\\\\anaconda3\\\\envs\\\\python-chilla\\\\lib\\\\site-packages', 'C:\\\\Users\\\\Ali\\\\anaconda3\\\\envs\\\\python-chilla\\\\lib\\\\site-packages\\\\win32', 'C:\\\\Users\\\\Ali\\\\anaconda3\\\\envs\\\\python-chilla\\\\lib\\\\site-packages\\\\win32\\\\lib', 'C:\\\\Users\\\\Ali\\\\anaconda3\\\\envs\\\\python-chilla\\\\lib\\\\site-packages\\\\Pythonwin', 'C:\\\\Users\\\\Ali\\\\anaconda3\\\\envs\\\\python-chilla\\\\lib\\\\site-packages\\\\IPython\\\\extensions', 'C:\\\\Users\\\\Ali\\\\.ipython']\n",
      "means of x is : 39.333333333333336\n"
     ]
    }
   ],
   "source": [
    "# importing  module calc.py\n",
    "import math\n",
    "import statistics\n",
    "print('value of pi is:' ,math.pi)\n",
    "\n",
    "\n",
    "# importing sqrt() and factorial from the\n",
    "# module math\n",
    "from math import sqrt, factorial\n",
    "  \n",
    "# if we simply do \"import math\", then\n",
    "# math.sqrt(16) and math.factorial()\n",
    "# are required.\n",
    "print(sqrt(16))\n",
    "print(factorial(6))\n",
    "\n",
    "# importing sys module\n",
    "import sys\n",
    "  \n",
    "# importing sys.path\n",
    "print(sys.path)\n",
    "\n",
    "x = [10,20,80,6,100, 20]\n",
    "print(\"means of x is :\", statistics.mean(x))"
   ]
  },
  {
   "cell_type": "markdown",
   "metadata": {},
   "source": [
    "# Error Trouble Shooting"
   ]
  },
  {
   "cell_type": "code",
   "execution_count": 14,
   "metadata": {},
   "outputs": [
    {
     "ename": "ZeroDivisionError",
     "evalue": "division by zero",
     "output_type": "error",
     "traceback": [
      "\u001b[1;31m---------------------------------------------------------------------------\u001b[0m",
      "\u001b[1;31mZeroDivisionError\u001b[0m                         Traceback (most recent call last)",
      "\u001b[1;32m<ipython-input-14-9fb6f8d4d176>\u001b[0m in \u001b[0;36m<module>\u001b[1;34m\u001b[0m\n\u001b[0;32m     12\u001b[0m \u001b[1;33m\u001b[0m\u001b[0m\n\u001b[0;32m     13\u001b[0m \u001b[1;31m# perform division with 0\u001b[0m\u001b[1;33m\u001b[0m\u001b[1;33m\u001b[0m\u001b[1;33m\u001b[0m\u001b[0m\n\u001b[1;32m---> 14\u001b[1;33m \u001b[0ma\u001b[0m \u001b[1;33m=\u001b[0m \u001b[0mmarks\u001b[0m \u001b[1;33m/\u001b[0m \u001b[1;36m0\u001b[0m\u001b[1;33m\u001b[0m\u001b[1;33m\u001b[0m\u001b[0m\n\u001b[0m\u001b[0;32m     15\u001b[0m \u001b[0mprint\u001b[0m\u001b[1;33m(\u001b[0m\u001b[0ma\u001b[0m\u001b[1;33m)\u001b[0m\u001b[1;33m\u001b[0m\u001b[1;33m\u001b[0m\u001b[0m\n",
      "\u001b[1;31mZeroDivisionError\u001b[0m: division by zero"
     ]
    }
   ],
   "source": [
    "# initialize the amount variable\n",
    "amount = 10000\n",
    " \n",
    "# check that You are eligible to\n",
    "#  purchase Dsa Self Paced or not\n",
    "# if(amount > 2999):\n",
    "# print(\"You are eligible to purchase Dsa Self Paced\")\n",
    "\n",
    "\n",
    "# initialize the amount variable\n",
    "marks = 10000\n",
    " \n",
    "# perform division with 0\n",
    "a = marks / 0\n",
    "print(a)"
   ]
  },
  {
   "cell_type": "markdown",
   "metadata": {},
   "source": [
    "# Data Structure and Indexing"
   ]
  },
  {
   "cell_type": "code",
   "execution_count": 15,
   "metadata": {},
   "outputs": [
    {
     "name": "stdout",
     "output_type": "stream",
     "text": [
      "3\n",
      "0\n",
      "7\n",
      "4\n",
      "3\n",
      "3\n"
     ]
    }
   ],
   "source": [
    "# Python3 program for demonstration  \n",
    "# of list index() method\n",
    "  \n",
    "list1 = [1, 2, 3, 4, 1, 1, 1, 4, 5]\n",
    "  \n",
    "# Will print the index of '4' in list1\n",
    "print(list1.index(4))\n",
    "  \n",
    "list2 = ['cat', 'bat', 'mat', 'cat', 'pet']\n",
    "  \n",
    "# Will print the index of 'cat' in list2 \n",
    "print(list2.index('cat'))\n",
    "\n",
    "\n",
    "# Python3 program for demonstration \n",
    "# of index() method\n",
    "  \n",
    "list1 = [1, 2, 3, 4, 1, 1, 1, 4, 5]\n",
    "  \n",
    "# Will print index of '4' in sublist\n",
    "# having index from 4 to 8.\n",
    "print(list1.index(4, 4, 8))\n",
    "  \n",
    "# Will print index of '1' in sublist\n",
    "# having index from 1 to 7.\n",
    "print(list1.index(1, 1, 7))\n",
    "  \n",
    "list2 = ['cat', 'bat', 'mat', 'cat', \n",
    "         'get', 'cat', 'sat', 'pet']\n",
    "  \n",
    "# Will print index of 'cat' in sublist\n",
    "# having index from 2 to 6\n",
    "print(list2.index('cat', 2, 6 ))\n",
    "\n",
    "\n",
    "# of index() method\n",
    "  \n",
    "list1 = [6 , 8 , 5 , 6 , 1 , 2]\n",
    "  \n",
    "# Will print index of '3' in sublist\n",
    "# having index from 1 to end of the list.\n",
    "print(list1.index(6 , 1))"
   ]
  },
  {
   "cell_type": "markdown",
   "metadata": {},
   "source": [
    "# Data Structures"
   ]
  },
  {
   "cell_type": "markdown",
   "metadata": {},
   "source": [
    "# Tuples"
   ]
  },
  {
   "cell_type": "code",
   "execution_count": null,
   "metadata": {},
   "outputs": [
    {
     "name": "stdout",
     "output_type": "stream",
     "text": [
      "Initial empty Tuple: \n",
      "()\n",
      "\n",
      "Tuple with the use of String: \n",
      "('Chilla', 'For')\n",
      "\n",
      "Tuple using List: \n",
      "(1, 2, 4, 5, 6)\n",
      "\n",
      "Tuple with the use of function: \n",
      "('C', 'h', 'i', 'l', 'l', 'a')\n"
     ]
    }
   ],
   "source": [
    "# Tuples\n",
    "# Creating an empty Tuple\n",
    "Tuple1 = ()\n",
    "print(\"Initial empty Tuple: \")\n",
    "print(Tuple1)\n",
    " \n",
    "# Creating a Tuple\n",
    "# with the use of string\n",
    "Tuple1 = ('Chilla', 'For')\n",
    "print(\"\\nTuple with the use of String: \")\n",
    "print(Tuple1)\n",
    " \n",
    "# Creating a Tuple with\n",
    "# the use of list\n",
    "list1 = [1, 2, 4, 5, 6]\n",
    "print(\"\\nTuple using List: \")\n",
    "print(tuple(list1))\n",
    " \n",
    "# Creating a Tuple\n",
    "# with the use of built-in function\n",
    "Tuple1 = tuple('Chilla')\n",
    "print(\"\\nTuple with the use of function: \")\n",
    "print(Tuple1)"
   ]
  },
  {
   "cell_type": "code",
   "execution_count": null,
   "metadata": {},
   "outputs": [
    {
     "name": "stdout",
     "output_type": "stream",
     "text": [
      "\n",
      "First element of Tuple: \n",
      "C\n",
      "\n",
      "Values after unpacking: \n",
      "Chilla\n",
      "For\n",
      "Geeks\n"
     ]
    }
   ],
   "source": [
    "\n",
    "# Accessing Tuple\n",
    "# with Indexing\n",
    "Tuple1 = tuple(\"Chilla\")\n",
    "print(\"\\nFirst element of Tuple: \")\n",
    "print(Tuple1[0])\n",
    " \n",
    " \n",
    "# Tuple unpacking\n",
    "Tuple1 = (\"Chilla\", \"For\", \"Python\")\n",
    " \n",
    "# This line unpack\n",
    "# values of Tuple1\n",
    "a, b, c = Tuple1\n",
    "print(\"\\nValues after unpacking: \")\n",
    "print(a)\n",
    "print(b)\n",
    "print(c)"
   ]
  },
  {
   "cell_type": "code",
   "execution_count": null,
   "metadata": {},
   "outputs": [
    {
     "name": "stdout",
     "output_type": "stream",
     "text": [
      "Tuple 1: \n",
      "(0, 1, 2, 3)\n",
      "\n",
      "Tuple2: \n",
      "('Chilla', 'in', 'Data science')\n",
      "\n",
      "Tuples after Concatenation: \n",
      "(0, 1, 2, 3, 'Chilla', 'in', 'Data science')\n"
     ]
    }
   ],
   "source": [
    "# Concatenation of tuples\n",
    "Tuple1 = (0, 1, 2, 3)\n",
    "Tuple2 = ('Chilla', 'in', 'Data science')\n",
    " \n",
    "Tuple3 = Tuple1 + Tuple2\n",
    " \n",
    "# Printing first Tuple\n",
    "print(\"Tuple 1: \")\n",
    "print(Tuple1)\n",
    " \n",
    "# Printing Second Tuple\n",
    "print(\"\\nTuple2: \")\n",
    "print(Tuple2)\n",
    " \n",
    "# Printing Final Tuple\n",
    "print(\"\\nTuples after Concatenation: \")\n",
    "print(Tuple3)"
   ]
  },
  {
   "cell_type": "code",
   "execution_count": null,
   "metadata": {},
   "outputs": [
    {
     "name": "stdout",
     "output_type": "stream",
     "text": [
      "Removal of First Element: \n",
      "('h', 'i', 'l', 'a', ' ', 'i', 'n', ' ', 'D', 'a', 't', 'a', ' ', 'S', 'c', 'i', 'e', 'n', 'c', 'e')\n",
      "\n",
      "Tuple after sequence of Element is reversed: \n",
      "('e', 'c', 'n', 'e', 'i', 'c', 'S', ' ', 'a', 't', 'a', 'D', ' ', 'n', 'i', ' ', 'a', 'l', 'i', 'h', 'C')\n",
      "\n",
      "Printing elements between Range 4-9: \n",
      "('a', ' ', 'i', 'n', ' ')\n"
     ]
    }
   ],
   "source": [
    "# Slicing of a Tuple\n",
    " \n",
    "# Slicing of a Tuple\n",
    "# with Numbers\n",
    "Tuple1 = tuple('Chila in Data Science')\n",
    " \n",
    "# Removing First element\n",
    "print(\"Removal of First Element: \")\n",
    "print(Tuple1[1:])\n",
    " \n",
    "# Reversing the Tuple\n",
    "print(\"\\nTuple after sequence of Element is reversed: \")\n",
    "print(Tuple1[::-1])\n",
    " \n",
    "# Printing elements of a Range\n",
    "print(\"\\nPrinting elements between Range 4-9: \")\n",
    "print(Tuple1[4:9])"
   ]
  },
  {
   "cell_type": "code",
   "execution_count": null,
   "metadata": {},
   "outputs": [
    {
     "ename": "NameError",
     "evalue": "name 'Tuple1' is not defined",
     "output_type": "error",
     "traceback": [
      "\u001b[1;31m---------------------------------------------------------------------------\u001b[0m\n",
      "\u001b[1;31mNameError\u001b[0m                                 Traceback (most recent call last)\n",
      "\u001b[1;32m~\\AppData\\Local\\Temp/ipykernel_8012/3786783553.py\u001b[0m in \u001b[0;36m<module>\u001b[1;34m\u001b[0m\n",
      "\u001b[0;32m      4\u001b[0m \u001b[1;32mdel\u001b[0m \u001b[0mTuple1\u001b[0m\u001b[1;33m\u001b[0m\u001b[1;33m\u001b[0m\u001b[0m\n",
      "\u001b[0;32m      5\u001b[0m \u001b[1;33m\u001b[0m\u001b[0m\n",
      "\u001b[1;32m----> 6\u001b[1;33m \u001b[0mprint\u001b[0m\u001b[1;33m(\u001b[0m\u001b[0mTuple1\u001b[0m\u001b[1;33m)\u001b[0m\u001b[1;33m\u001b[0m\u001b[1;33m\u001b[0m\u001b[0m\n",
      "\u001b[0m\n",
      "\u001b[1;31mNameError\u001b[0m: name 'Tuple1' is not defined"
     ]
    }
   ],
   "source": [
    "# Deleting a Tuple\n",
    " \n",
    "Tuple1 = (0, 1, 2, 3, 4)\n",
    "del Tuple1\n",
    " \n",
    "print(Tuple1)\n"
   ]
  },
  {
   "cell_type": "markdown",
   "metadata": {},
   "source": [
    "# List"
   ]
  },
  {
   "cell_type": "code",
   "execution_count": null,
   "metadata": {},
   "outputs": [
    {
     "name": "stdout",
     "output_type": "stream",
     "text": [
      "Blank List: \n",
      "[]\n",
      "\n",
      "List of numbers: \n",
      "[10, 20, 14]\n",
      "\n",
      "List Items: \n",
      "Chilla\n",
      "Data Science\n",
      "\n",
      "Multi-Dimensional List: \n",
      "[['Chilla', 'For'], ['Data Science']]\n"
     ]
    }
   ],
   "source": [
    "# Python program to demonstrate\n",
    "# Creation of List\n",
    " \n",
    "# Creating a List\n",
    "List = []\n",
    "print(\"Blank List: \")\n",
    "print(List)\n",
    " \n",
    "# Creating a List of numbers\n",
    "List = [10, 20, 14]\n",
    "print(\"\\nList of numbers: \")\n",
    "print(List)\n",
    " \n",
    "# Creating a List of strings and accessing\n",
    "# using index\n",
    "List = [\"Chilla\", \"For\", \"Data Science\"]\n",
    "print(\"\\nList Items: \")\n",
    "print(List[0])\n",
    "print(List[2])\n",
    " \n",
    "# Creating a Multi-Dimensional List\n",
    "# (By Nesting a list inside a List)\n",
    "List = [['Chilla', 'For'], ['Data Science']]\n",
    "print(\"\\nMulti-Dimensional List: \")\n",
    "print(List)"
   ]
  },
  {
   "cell_type": "code",
   "execution_count": null,
   "metadata": {},
   "outputs": [
    {
     "name": "stdout",
     "output_type": "stream",
     "text": [
      "\n",
      "List with the use of Numbers: \n",
      "[1, 2, 4, 4, 3, 3, 3, 6, 5]\n",
      "\n",
      "List with the use of Mixed Values: \n",
      "[1, 2, 'Python', 4, 'For', 6, 'Begginer']\n"
     ]
    }
   ],
   "source": [
    "# Creating a List with\n",
    "# the use of Numbers\n",
    "# (Having duplicate values)\n",
    "List = [1, 2, 4, 4, 3, 3, 3, 6, 5]\n",
    "print(\"\\nList with the use of Numbers: \")\n",
    "print(List)\n",
    " \n",
    "# Creating a List with\n",
    "# mixed type of values\n",
    "# (Having numbers and strings)\n",
    "List = [1, 2, 'Python', 4, 'For', 6, 'Begginer']\n",
    "print(\"\\nList with the use of Mixed Values: \")\n",
    "print(List)"
   ]
  },
  {
   "cell_type": "code",
   "execution_count": null,
   "metadata": {},
   "outputs": [
    {
     "name": "stdout",
     "output_type": "stream",
     "text": [
      "0\n",
      "3\n"
     ]
    }
   ],
   "source": [
    "# Creating a List\n",
    "List1 = []\n",
    "print(len(List1))\n",
    " \n",
    "# Creating a List of numbers\n",
    "List2 = [10, 20, 14]\n",
    "print(len(List2))\n"
   ]
  },
  {
   "cell_type": "code",
   "execution_count": null,
   "metadata": {},
   "outputs": [
    {
     "name": "stdout",
     "output_type": "stream",
     "text": [
      "Initial blank List: \n",
      "[]\n",
      "\n",
      "List after Addition of Three elements: \n",
      "[1, 2, 4]\n",
      "\n",
      "List after Addition of elements from 1-3: \n",
      "[1, 2, 4, 1, 2, 3]\n",
      "\n",
      "List after Addition of a Tuple: \n",
      "[1, 2, 4, 1, 2, 3, (5, 6)]\n",
      "\n",
      "List after Addition of a List: \n",
      "[1, 2, 4, 1, 2, 3, (5, 6), ['For', 'Python']]\n"
     ]
    }
   ],
   "source": [
    "# Python program to demonstrate\n",
    "# Addition of elements in a List\n",
    " \n",
    "# Creating a List\n",
    "List = []\n",
    "print(\"Initial blank List: \")\n",
    "print(List)\n",
    " \n",
    "# Addition of Elements\n",
    "# in the List\n",
    "List.append(1)\n",
    "List.append(2)\n",
    "List.append(4)\n",
    "print(\"\\nList after Addition of Three elements: \")\n",
    "print(List)\n",
    " \n",
    "# Adding elements to the List\n",
    "# using Iterator\n",
    "for i in range(1, 4):\n",
    "    List.append(i)\n",
    "print(\"\\nList after Addition of elements from 1-3: \")\n",
    "print(List)\n",
    " \n",
    "# Adding Tuples to the List\n",
    "List.append((5, 6))\n",
    "print(\"\\nList after Addition of a Tuple: \")\n",
    "print(List)\n",
    " \n",
    "# Addition of List to a List\n",
    "List2 = ['For', 'Python']\n",
    "List.append(List2)\n",
    "print(\"\\nList after Addition of a List: \")\n",
    "print(List)\n"
   ]
  },
  {
   "cell_type": "code",
   "execution_count": null,
   "metadata": {},
   "outputs": [
    {
     "name": "stdout",
     "output_type": "stream",
     "text": [
      "Accessing a element from the list\n",
      "Geeks\n",
      "Geeks\n",
      "Accessing a element from a Multi-Dimensional list\n",
      "For\n",
      "Geeks\n"
     ]
    }
   ],
   "source": [
    "# Python program to demonstrate\n",
    "# accessing of element from list\n",
    " \n",
    "# Creating a List with\n",
    "# the use of multiple values\n",
    "List = [\"Python\", \"For\", \"World\"]\n",
    " \n",
    "# accessing a element from the\n",
    "# list using index number\n",
    "print(\"Accessing a element from the list\")\n",
    "print(List[0])\n",
    "print(List[2])\n",
    " \n",
    "# Creating a Multi-Dimensional List\n",
    "# (By Nesting a list inside a List)\n",
    "List = [['Python', 'For'], ['DS']]\n",
    " \n",
    "# accessing an element from the\n",
    "# Multi-Dimensional List using\n",
    "# index number\n",
    "print(\"Accessing a element from a Multi-Dimensional list\")\n",
    "print(List[0][1])\n",
    "print(List[1][0])\n"
   ]
  },
  {
   "cell_type": "markdown",
   "metadata": {},
   "source": [
    "# Dictionary"
   ]
  },
  {
   "cell_type": "code",
   "execution_count": null,
   "metadata": {},
   "outputs": [
    {
     "name": "stdout",
     "output_type": "stream",
     "text": [
      "\n",
      "Dictionary with the use of Integer Keys: \n",
      "{1: 'Python', 2: 'For', 3: 'All'}\n",
      "\n",
      "Dictionary with the use of Mixed Keys: \n",
      "{'Name': 'Python', 1: [1, 2, 3, 4]}\n"
     ]
    }
   ],
   "source": [
    "# Creating a Dictionary\n",
    "# with Integer Keys\n",
    "Dict = {1: 'Python', 2: 'For', 3: 'All'}\n",
    "print(\"\\nDictionary with the use of Integer Keys: \")\n",
    "print(Dict)\n",
    " \n",
    "# Creating a Dictionary\n",
    "# with Mixed keys\n",
    "Dict = {'Name': 'Python', 1: [1, 2, 3, 4]}\n",
    "print(\"\\nDictionary with the use of Mixed Keys: \")\n",
    "print(Dict)"
   ]
  },
  {
   "cell_type": "code",
   "execution_count": null,
   "metadata": {},
   "outputs": [
    {
     "name": "stdout",
     "output_type": "stream",
     "text": [
      "Empty Dictionary: \n",
      "{}\n",
      "\n",
      "Dictionary with the use of dict(): \n",
      "{1: 'Python', 2: 'For', 3: 'all'}\n",
      "\n",
      "Dictionary with each item as a pair: \n",
      "{1: 'Python', 2: 'For'}\n"
     ]
    }
   ],
   "source": [
    "# Creating an empty Dictionary\n",
    "Dict = {}\n",
    "print(\"Empty Dictionary: \")\n",
    "print(Dict)\n",
    " \n",
    "# Creating a Dictionary\n",
    "# with dict() method\n",
    "Dict = dict({1: 'Python', 2: 'For', 3:'all'})\n",
    "print(\"\\nDictionary with the use of dict(): \")\n",
    "print(Dict)\n",
    " \n",
    "# Creating a Dictionary\n",
    "# with each item as a Pair\n",
    "Dict = dict([(1, 'Python'), (2, 'For')])\n",
    "print(\"\\nDictionary with each item as a pair: \")\n",
    "print(Dict)"
   ]
  },
  {
   "cell_type": "code",
   "execution_count": null,
   "metadata": {},
   "outputs": [
    {
     "name": "stdout",
     "output_type": "stream",
     "text": [
      "{1: 'Python', 2: 'For', 3: {'A': 'Welcome', 'B': 'To', 'C': 'Python'}}\n"
     ]
    }
   ],
   "source": [
    "\n",
    "# Creating a Nested Dictionary\n",
    "# as shown in the below image\n",
    "Dict = {1: 'Python', 2: 'For',\n",
    "        3:{'A' : 'Welcome', 'B' : 'To', 'C' : 'Python'}}\n",
    " \n",
    "print(Dict)"
   ]
  },
  {
   "cell_type": "code",
   "execution_count": null,
   "metadata": {},
   "outputs": [
    {
     "name": "stdout",
     "output_type": "stream",
     "text": [
      "Empty Dictionary: \n",
      "{}\n",
      "\n",
      "Dictionary after adding 3 elements: \n",
      "{0: 'Python', 2: 'For', 3: 1}\n",
      "\n",
      "Dictionary after adding 3 elements: \n",
      "{0: 'Python', 2: 'For', 3: 1, 'Value_set': (2, 3, 4)}\n",
      "\n",
      "Updated key value: \n",
      "{0: 'Python', 2: 'Welcome', 3: 1, 'Value_set': (2, 3, 4)}\n",
      "\n",
      "Adding a Nested Key: \n",
      "{0: 'Python', 2: 'Welcome', 3: 1, 'Value_set': (2, 3, 4), 5: {'Nested': {'1': 'Begginer', '2': 'Python'}}}\n"
     ]
    }
   ],
   "source": [
    "# Creating an empty Dictionary\n",
    "Dict = {}\n",
    "print(\"Empty Dictionary: \")\n",
    "print(Dict)\n",
    " \n",
    "# Adding elements one at a time\n",
    "Dict[0] = 'Python'\n",
    "Dict[2] = 'For'\n",
    "Dict[3] = 1\n",
    "print(\"\\nDictionary after adding 3 elements: \")\n",
    "print(Dict)\n",
    " \n",
    "# Adding set of values\n",
    "# to a single Key\n",
    "Dict['Value_set'] = 2, 3, 4\n",
    "print(\"\\nDictionary after adding 3 elements: \")\n",
    "print(Dict)\n",
    " \n",
    "# Updating existing Key's Value\n",
    "Dict[2] = 'Welcome'\n",
    "print(\"\\nUpdated key value: \")\n",
    "print(Dict)\n",
    " \n",
    "# Adding Nested Key value to Dictionary\n",
    "Dict[5] = {'Nested' :{'1' : 'Begginer', '2' : 'Python'}}\n",
    "print(\"\\nAdding a Nested Key: \")\n",
    "print(Dict)\n"
   ]
  },
  {
   "cell_type": "code",
   "execution_count": null,
   "metadata": {},
   "outputs": [
    {
     "name": "stdout",
     "output_type": "stream",
     "text": [
      "Accessing a element using key:\n",
      "For\n",
      "Accessing a element using key:\n",
      "Python\n"
     ]
    }
   ],
   "source": [
    "# Python program to demonstrate \n",
    "# accessing a element from a Dictionary\n",
    " \n",
    "# Creating a Dictionary\n",
    "Dict = {\"Course\": 'Python', 'name': 'For', 3: 'Students'}\n",
    " \n",
    "# accessing a element using key\n",
    "print(\"Accessing a element using key:\")\n",
    "print(Dict['name'])\n",
    " \n",
    "# accessing a element using key\n",
    "print(\"Accessing a element using key:\")\n",
    "print(Dict['Course'])"
   ]
  },
  {
   "cell_type": "code",
   "execution_count": null,
   "metadata": {},
   "outputs": [
    {
     "name": "stdout",
     "output_type": "stream",
     "text": [
      "\n",
      "Deleting Entire Dictionary: \n",
      "{}\n"
     ]
    }
   ],
   "source": [
    "# Creating a Dictionary\n",
    "Dict = {1: 'Python', 'name': 'For', 3: 'Name'}\n",
    " \n",
    " \n",
    "# Deleting entire Dictionary\n",
    "Dict.clear()\n",
    "print(\"\\nDeleting Entire Dictionary: \")\n",
    "print(Dict)"
   ]
  },
  {
   "cell_type": "markdown",
   "metadata": {},
   "source": [
    "# Sets"
   ]
  },
  {
   "cell_type": "code",
   "execution_count": null,
   "metadata": {},
   "outputs": [
    {
     "name": "stdout",
     "output_type": "stream",
     "text": [
      "Initial blank Set: \n",
      "set()\n",
      "\n",
      "Set with the use of String: \n",
      "{'t', 'd', 'o', 'c', 'e', 'v', 'l', 'i'}\n",
      "\n",
      "Set with the use of an Object: \n",
      "{'t', 'o', 'e', 'h', 'a', 'r', 'y', 'n', 'p', 'b'}\n",
      "\n",
      "Set with the use of List: \n",
      "{'python', 'For', 'students'}\n"
     ]
    }
   ],
   "source": [
    "# Python program to demonstrate\n",
    "# Creation of Set in Python\n",
    " \n",
    "# Creating a Set\n",
    "set1 = set()\n",
    "print(\"Initial blank Set: \")\n",
    "print(set1)\n",
    " \n",
    "# Creating a Set with\n",
    "# the use of a String\n",
    "set1 = set(\"codetolive\")\n",
    "print(\"\\nSet with the use of String: \")\n",
    "print(set1)\n",
    " \n",
    "# Creating a Set with\n",
    "# the use of Constructor\n",
    "# (Using object to Store String)\n",
    "String = 'pythontobreath'\n",
    "set1 = set(String)\n",
    "print(\"\\nSet with the use of an Object: \" )\n",
    "print(set1)\n",
    " \n",
    "# Creating a Set with\n",
    "# the use of a List\n",
    "set1 = set([\"python\", \"For\", \"students\"])\n",
    "print(\"\\nSet with the use of List: \")\n",
    "print(set1)"
   ]
  },
  {
   "cell_type": "code",
   "execution_count": null,
   "metadata": {},
   "outputs": [
    {
     "name": "stdout",
     "output_type": "stream",
     "text": [
      "\n",
      "Set with the use of Numbers: \n",
      "{1, 2, 3, 4, 5, 6}\n",
      "\n",
      "Set with the use of Mixed Values\n",
      "{'python', 1, 2, 4, 'For', 6, 'Students'}\n"
     ]
    }
   ],
   "source": [
    "# Creating a Set with\n",
    "# a List of Numbers\n",
    "# (Having duplicate values)\n",
    "set1 = set([1, 2, 4, 4, 3, 3, 3, 6, 5])\n",
    "print(\"\\nSet with the use of Numbers: \")\n",
    "print(set1)\n",
    " \n",
    "# Creating a Set with\n",
    "# a mixed type of values\n",
    "# (Having numbers and strings)\n",
    "set1 = set([1, 2, 'python', 4, 'For', 6, 'Students'])\n",
    "print(\"\\nSet with the use of Mixed Values\")\n",
    "print(set1)"
   ]
  },
  {
   "cell_type": "code",
   "execution_count": null,
   "metadata": {},
   "outputs": [
    {
     "name": "stdout",
     "output_type": "stream",
     "text": [
      "Initial blank Set: \n",
      "set()\n",
      "\n",
      "Set after Addition of Three elements: \n",
      "{8, 9, (6, 7)}\n",
      "\n",
      "Set after Addition of elements from 1-5: \n",
      "{1, 2, 3, 4, 5, 8, 9, (6, 7)}\n"
     ]
    }
   ],
   "source": [
    "# Python program to demonstrate\n",
    "# Addition of elements in a Set\n",
    " \n",
    "# Creating a Set\n",
    "set1 = set()\n",
    "print(\"Initial blank Set: \")\n",
    "print(set1)\n",
    " \n",
    "# Adding element and tuple to the Set\n",
    "set1.add(8)\n",
    "set1.add(9)\n",
    "set1.add((6,7))\n",
    "print(\"\\nSet after Addition of Three elements: \")\n",
    "print(set1)\n",
    " \n",
    "# Adding elements to the Set\n",
    "# using Iterator\n",
    "for i in range(1, 6):\n",
    "    set1.add(i)\n",
    "print(\"\\nSet after Addition of elements from 1-5: \")\n",
    "print(set1)"
   ]
  },
  {
   "cell_type": "code",
   "execution_count": null,
   "metadata": {},
   "outputs": [
    {
     "name": "stdout",
     "output_type": "stream",
     "text": [
      "\n",
      "Set after Addition of elements using Update: \n",
      "{4, 5, 10, 11, (6, 7)}\n"
     ]
    }
   ],
   "source": [
    "# Addition of elements in a Set\n",
    " \n",
    "# Addition of elements to the Set\n",
    "# using Update function\n",
    "set1 = set([ 4, 5, (6, 7)])\n",
    "set1.update([10, 11])\n",
    "print(\"\\nSet after Addition of elements using Update: \")\n",
    "print(set1)"
   ]
  },
  {
   "cell_type": "code",
   "execution_count": null,
   "metadata": {},
   "outputs": [
    {
     "name": "stdout",
     "output_type": "stream",
     "text": [
      "\n",
      "Initial set\n",
      "{'Students', 'Python', 'For'}\n",
      "\n",
      "Elements of set: \n",
      "Students Python For True\n"
     ]
    }
   ],
   "source": [
    "# Accessing of elements in a set\n",
    " \n",
    "# Creating a set\n",
    "set1 = set([\"Python\", \"For\", \"Students\"])\n",
    "print(\"\\nInitial set\")\n",
    "print(set1)\n",
    " \n",
    "# Accessing element using\n",
    "# for loop\n",
    "print(\"\\nElements of set: \")\n",
    "for i in set1:\n",
    "    print(i, end=\" \")\n",
    " \n",
    "# Checking the element\n",
    "# using in keyword\n",
    "print(\"Python\" in set1)\n"
   ]
  },
  {
   "cell_type": "code",
   "execution_count": null,
   "metadata": {},
   "outputs": [
    {
     "name": "stdout",
     "output_type": "stream",
     "text": [
      "Initial Set: \n",
      "{1, 2, 3, 4, 5, 6, 7, 8, 9, 10, 11, 12}\n",
      "\n",
      "Set after popping an element: \n",
      "{2, 3, 4, 5, 6, 7, 8, 9, 10, 11, 12}\n"
     ]
    }
   ],
   "source": [
    "# Deletion of elements in a Set\n",
    " \n",
    "# Creating a Set\n",
    "set1 = set([1, 2, 3, 4, 5, 6,\n",
    "            7, 8, 9, 10, 11, 12])\n",
    "print(\"Initial Set: \")\n",
    "print(set1)\n",
    " \n",
    "# Removing element from the\n",
    "# Set using the pop() method\n",
    "set1.pop()\n",
    "print(\"\\nSet after popping an element: \")\n",
    "print(set1)"
   ]
  },
  {
   "cell_type": "code",
   "execution_count": null,
   "metadata": {},
   "outputs": [
    {
     "name": "stdout",
     "output_type": "stream",
     "text": [
      "Initial Set: \n",
      "{1, 2, 3, 4, 5, 6, 7, 8, 9, 10, 11, 12}\n",
      "\n",
      "Set after Removal of two elements: \n",
      "{1, 2, 3, 4, 7, 8, 9, 10, 11, 12}\n",
      "\n",
      "Set after Discarding two elements: \n",
      "{1, 2, 3, 4, 7, 10, 11, 12}\n",
      "\n",
      "Set after Removing a range of elements: \n",
      "{7, 10, 11, 12}\n"
     ]
    }
   ],
   "source": [
    "# Deletion of elements in a Set\n",
    " \n",
    "# Creating a Set\n",
    "set1 = set([1, 2, 3, 4, 5, 6,\n",
    "            7, 8, 9, 10, 11, 12])\n",
    "print(\"Initial Set: \")\n",
    "print(set1)\n",
    " \n",
    "# Removing elements from Set\n",
    "# using Remove() method\n",
    "set1.remove(5)\n",
    "set1.remove(6)\n",
    "print(\"\\nSet after Removal of two elements: \")\n",
    "print(set1)\n",
    " \n",
    "# Removing elements from Set\n",
    "# using Discard() method\n",
    "set1.discard(8)\n",
    "set1.discard(9)\n",
    "print(\"\\nSet after Discarding two elements: \")\n",
    "print(set1)\n",
    " \n",
    "# Removing elements from Set\n",
    "# using iterator method\n",
    "for i in range(1, 5):\n",
    "    set1.remove(i)\n",
    "print(\"\\nSet after Removing a range of elements: \")\n",
    "print(set1)"
   ]
  },
  {
   "cell_type": "code",
   "execution_count": null,
   "metadata": {},
   "outputs": [
    {
     "name": "stdout",
     "output_type": "stream",
     "text": [
      "\n",
      " Initial set: \n",
      "{1, 2, 3, 4, 5}\n",
      "\n",
      "Set after clearing all the elements: \n",
      "set()\n"
     ]
    }
   ],
   "source": [
    "#Creating a set\n",
    "set1 = set([1,2,3,4,5])\n",
    "print(\"\\n Initial set: \")\n",
    "print(set1)\n",
    " \n",
    " \n",
    "# Removing all the elements from\n",
    "# Set using clear() method\n",
    "set1.clear()\n",
    "print(\"\\nSet after clearing all the elements: \")\n",
    "print(set1)"
   ]
  },
  {
   "cell_type": "code",
   "execution_count": null,
   "metadata": {},
   "outputs": [],
   "source": []
  }
 ],
 "metadata": {
  "interpreter": {
   "hash": "9d70aad609970aced91dd5d236a1502174788f0d015a2c74b40cf0eb5361d0f9"
  },
  "kernelspec": {
   "display_name": "Python 3.6.13 64-bit ('python-chilla': conda)",
   "language": "python",
   "name": "python3"
  },
  "language_info": {
   "codemirror_mode": {
    "name": "ipython",
    "version": 3
   },
   "file_extension": ".py",
   "mimetype": "text/x-python",
   "name": "python",
   "nbconvert_exporter": "python",
   "pygments_lexer": "ipython3",
   "version": "3.6.13"
  },
  "orig_nbformat": 4
 },
 "nbformat": 4,
 "nbformat_minor": 2
}
